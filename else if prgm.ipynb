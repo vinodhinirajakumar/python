{
 "cells": [
  {
   "cell_type": "code",
   "execution_count": 1,
   "id": "c059b353",
   "metadata": {},
   "outputs": [],
   "source": [
    "# ELIF"
   ]
  },
  {
   "cell_type": "code",
   "execution_count": 10,
   "id": "58ea0e7a",
   "metadata": {},
   "outputs": [
    {
     "name": "stdout",
     "output_type": "stream",
     "text": [
      "emter the character:u\n",
      "it is a vowel\n"
     ]
    }
   ],
   "source": [
    "#vowel\n",
    "ch  = input(\"emter the character:\")\n",
    "if(ch == \"a\" or ch ==\"A\"):\n",
    "    print(\"it is a vowel\")\n",
    "elif(ch==\"e\" or ch==\"E\"):\n",
    "    print(\"it is a vowel\")\n",
    "elif(ch==\"i\" or ch==\"I\"):\n",
    "    print(\"it is a vowel\")\n",
    "elif(ch==\"o\" or ch==\"O\"):\n",
    "    print(\"it is a vowel\")\n",
    "elif(ch==\"u\" or ch==\"U\"):\n",
    "    print(\"it is a vowel\")\n",
    "else:\n",
    "    print(\"enter a porper letter\")"
   ]
  },
  {
   "cell_type": "code",
   "execution_count": 9,
   "id": "53b3453e",
   "metadata": {},
   "outputs": [
    {
     "name": "stdout",
     "output_type": "stream",
     "text": [
      "enter the number:15\n",
      "enter the number10\n",
      "enter a operation*\n",
      "150\n"
     ]
    }
   ],
   "source": [
    "# operation using elif bcz in this we donot use switch and do while\n",
    "a= int(input(\"enter the number:\"))\n",
    "b= int(input(\"enter the number\"))\n",
    "op=input(\"enter a operation\")\n",
    "if(op==\"+\"):\n",
    "    c = a + b;\n",
    "    print(c)\n",
    "elif(op==\"-\"):\n",
    "    c=a -b;\n",
    "    print(c)\n",
    "elif(op==\"*\"):\n",
    "    c=a *b\n",
    "    print(c)    \n",
    "elif(op==\"/\"):\n",
    "    c=a /b\n",
    "    print(c) \n",
    "else :\n",
    "    print(\"enter a valid option\")"
   ]
  },
  {
   "cell_type": "code",
   "execution_count": 6,
   "id": "ad43eeff",
   "metadata": {},
   "outputs": [
    {
     "name": "stdout",
     "output_type": "stream",
     "text": [
      "enter the number:407\n",
      "407\n",
      "amstrong number\n"
     ]
    }
   ],
   "source": [
    "  # amstrong number\n",
    "a=int(input(\"enter the number:\"));\n",
    "c=a\n",
    "sum=0\n",
    "while(c>0):\n",
    "    b=c%10\n",
    "    sum=sum+(b*b*b)\n",
    "    c=c//10\n",
    "print(sum)\n",
    "if(sum==a):\n",
    "    print(\"amstrong number\")\n",
    "else:\n",
    "    print(\"not a amstrong number\")\n",
    "    \n",
    "        "
   ]
  },
  {
   "cell_type": "code",
   "execution_count": 7,
   "id": "bbb038f7",
   "metadata": {},
   "outputs": [
    {
     "name": "stdout",
     "output_type": "stream",
     "text": [
      "c is largest\n"
     ]
    }
   ],
   "source": [
    "# largest number\n",
    "a,b,c=5,7,8\n",
    "if(a>b and a>c):\n",
    "    print(\"a is largest\")\n",
    "elif(b>a and b>c):\n",
    "        print(\"b is largest\")\n",
    "else:\n",
    "            print(\"c is largest\")\n"
   ]
  },
  {
   "cell_type": "code",
   "execution_count": 10,
   "id": "c0043aed",
   "metadata": {},
   "outputs": [
    {
     "name": "stdout",
     "output_type": "stream",
     "text": [
      "enter the number to rev:890\n",
      "98\n",
      "not a palindrome\n"
     ]
    }
   ],
   "source": [
    "# palindrome number\n",
    "a=int(input(\"enter the number to rev:\"));\n",
    "rev=0\n",
    "b=a\n",
    "while(b>0):\n",
    "    c=b%10\n",
    "    rev=rev*10+c\n",
    "    b=b//10\n",
    "print(rev)\n",
    "if(rev==a):\n",
    "    print(\"it is palindrome\")\n",
    "else:\n",
    "    print(\"not a palindrome\")\n"
   ]
  },
  {
   "cell_type": "code",
   "execution_count": 1,
   "id": "b345ecbc",
   "metadata": {},
   "outputs": [
    {
     "name": "stdout",
     "output_type": "stream",
     "text": [
      "enter a number:5\n",
      "1\n",
      "2\n",
      "3\n",
      "5\n",
      "8\n"
     ]
    }
   ],
   "source": [
    "# fibnoicc series\n",
    "a=0\n",
    "b=1\n",
    "c=1\n",
    "i=0\n",
    "n = int(input(\"enter a number:\"))\n",
    "while(i<n):\n",
    "    c=a+b\n",
    "    i=i+1\n",
    "    a=b\n",
    "    b=c\n",
    "    print(c)"
   ]
  },
  {
   "cell_type": "code",
   "execution_count": 29,
   "id": "cb55e721",
   "metadata": {},
   "outputs": [
    {
     "name": "stdout",
     "output_type": "stream",
     "text": [
      "enter the number8\n",
      "enter the number-5\n",
      "fourth quadrant\n"
     ]
    }
   ],
   "source": [
    "#quadrant number\n",
    "a=int(input(\"enter the number\"))\n",
    "b=int(input(\"enter the number\"))\n",
    "if(a>0 and b>0):\n",
    "    print(\"first quadrant\")\n",
    "elif(a<0 and b>0):\n",
    "    print(\"second quadrant\")\n",
    "elif(a<0 and b<0):\n",
    "    print(\"third quadrant\")\n",
    "else:\n",
    "    print(\"fourth quadrant\")\n",
    "\n",
    "\n"
   ]
  },
  {
   "cell_type": "code",
   "execution_count": null,
   "id": "cc848493",
   "metadata": {},
   "outputs": [],
   "source": []
  },
  {
   "cell_type": "code",
   "execution_count": null,
   "id": "aa463c97",
   "metadata": {},
   "outputs": [],
   "source": []
  }
 ],
 "metadata": {
  "kernelspec": {
   "display_name": "Python 3 (ipykernel)",
   "language": "python",
   "name": "python3"
  },
  "language_info": {
   "codemirror_mode": {
    "name": "ipython",
    "version": 3
   },
   "file_extension": ".py",
   "mimetype": "text/x-python",
   "name": "python",
   "nbconvert_exporter": "python",
   "pygments_lexer": "ipython3",
   "version": "3.10.9"
  }
 },
 "nbformat": 4,
 "nbformat_minor": 5
}
