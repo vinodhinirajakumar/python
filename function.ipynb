{
 "cells": [
  {
   "cell_type": "code",
   "execution_count": 2,
   "id": "ecc2034d",
   "metadata": {},
   "outputs": [
    {
     "name": "stdout",
     "output_type": "stream",
     "text": [
      "enter the number48\n",
      "enter the second number6\n",
      "sum is 54\n",
      "diff is 42\n",
      "multi is 288\n",
      "div is 8.0\n",
      "mod is 0\n",
      "fd is 8\n"
     ]
    }
   ],
   "source": [
    "a=int(input(\"enter the number\"))\n",
    "b=int(input(\"enter the second number\"))\n",
    "def sum(a,b):\n",
    "    c=a+b+5\n",
    "    return(c)\n",
    "def diff(a,b):\n",
    "    c=a-b\n",
    "    return(c)\n",
    "def multi(a,b):\n",
    "    c=a*b\n",
    "    return(c)\n",
    "def div(a,b):\n",
    "    c=a/b\n",
    "    return(c)\n",
    "def mod(a,b):\n",
    "    c=a%b\n",
    "    return(c)\n",
    "def fd(a,b): # floor division\n",
    "    c=a//b\n",
    "    return(c)\n",
    "x=sum(a,b)\n",
    "y=diff(a,b)\n",
    "z=multi(a,b)\n",
    "u=div(a,b)\n",
    "v=mod(a,b)\n",
    "w=fd(a,b)\n",
    "print(\"sum is\",x)\n",
    "print(\"diff is\",y)\n",
    "print(\"multi is\",z)\n",
    "print(\"div is\",u)\n",
    "print(\"mod is\",v)\n",
    "print(\"fd is\",w)"
   ]
  },
  {
   "cell_type": "code",
   "execution_count": 7,
   "id": "7ea1a1af",
   "metadata": {},
   "outputs": [
    {
     "name": "stdout",
     "output_type": "stream",
     "text": [
      "[1, 5, 6, 7, 8, 90, 15]\n"
     ]
    }
   ],
   "source": [
    "lis = [1,5,6,7,8,90]\n",
    "lis.append(15)\n",
    "print(lis)"
   ]
  },
  {
   "cell_type": "code",
   "execution_count": 10,
   "id": "596182dd",
   "metadata": {},
   "outputs": [
    {
     "name": "stdout",
     "output_type": "stream",
     "text": [
      "[10, 10, 10, 1, 5, 6, 7, 8, 90, 15]\n"
     ]
    }
   ],
   "source": [
    "lis.insert(0,10)\n",
    "print(lis)"
   ]
  },
  {
   "cell_type": "code",
   "execution_count": null,
   "id": "80f20a86",
   "metadata": {},
   "outputs": [],
   "source": [
    "oops concept two lines then features oops concept(5m)\n",
    "desision making statement(flowchart 10m)\n",
    "formatted and unformatted\n",
    "class def and object def then code\n",
    "default and parameter constructor\n",
    "structure of c++\n",
    "evenodd\n",
    "fibnoicc"
   ]
  }
 ],
 "metadata": {
  "kernelspec": {
   "display_name": "Python 3 (ipykernel)",
   "language": "python",
   "name": "python3"
  },
  "language_info": {
   "codemirror_mode": {
    "name": "ipython",
    "version": 3
   },
   "file_extension": ".py",
   "mimetype": "text/x-python",
   "name": "python",
   "nbconvert_exporter": "python",
   "pygments_lexer": "ipython3",
   "version": "3.10.9"
  }
 },
 "nbformat": 4,
 "nbformat_minor": 5
}
