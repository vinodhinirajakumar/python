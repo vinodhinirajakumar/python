{
 "cells": [
  {
   "cell_type": "code",
   "execution_count": 2,
   "id": "61985e3b",
   "metadata": {},
   "outputs": [],
   "source": [
    "# REGEX --> REGULAR EXPRESSION\n",
    "                                                                                                                                                                                                                                                                                                                                                                                                                                                            "
   ]
  },
  {
   "cell_type": "markdown",
   "id": "adb4d8e1",
   "metadata": {},
   "source": [
    "# ^ symbol"
   ]
  },
  {
   "cell_type": "code",
   "execution_count": 6,
   "id": "b3eb3ed6",
   "metadata": {},
   "outputs": [
    {
     "name": "stdout",
     "output_type": "stream",
     "text": [
      "string starts with vinodhini\n"
     ]
    }
   ],
   "source": [
    "import re\n",
    "txt=\"vinodhini word\"\n",
    "x=re.findall(\"^vinodhini\",txt)# -->^ is used to match the expression right at the start of the string\n",
    "if x:\n",
    "    print(\"string starts with vinodhini\")\n",
    "else:\n",
    "        print(\"no match\")"
   ]
  },
  {
   "cell_type": "code",
   "execution_count": 7,
   "id": "92551a30",
   "metadata": {},
   "outputs": [
    {
     "name": "stdout",
     "output_type": "stream",
     "text": [
      "string starts with vinodhini\n"
     ]
    }
   ],
   "source": [
    "import re\n",
    "txt=\"vinodhini word\"\n",
    "x=re.findall(\"vinodhini\",txt)\n",
    "if x:\n",
    "    print(\"string starts with vinodhini\")\n",
    "else:\n",
    "        print(\"no match\")"
   ]
  },
  {
   "cell_type": "markdown",
   "id": "97fdc35a",
   "metadata": {},
   "source": [
    "# $ symbol"
   ]
  },
  {
   "cell_type": "code",
   "execution_count": 10,
   "id": "f7d49758",
   "metadata": {},
   "outputs": [
    {
     "name": "stdout",
     "output_type": "stream",
     "text": [
      "yes,it ends with planent\n"
     ]
    }
   ],
   "source": [
    "txt=\"hello planent\"\n",
    "x=re.findall(\"planent$\",txt)\n",
    "if x:\n",
    "    print(\"yes,it ends with planent\")\n",
    "else:\n",
    "        print(\"no match\")"
   ]
  },
  {
   "cell_type": "code",
   "execution_count": 11,
   "id": "dd6a56ef",
   "metadata": {},
   "outputs": [],
   "source": [
    "### . symbol\n"
   ]
  },
  {
   "cell_type": "code",
   "execution_count": 20,
   "id": "e814aaf8",
   "metadata": {},
   "outputs": [
    {
     "name": "stdout",
     "output_type": "stream",
     "text": [
      "['hello']\n"
     ]
    }
   ],
   "source": [
    "#-->search for a sequence that starts with he followed by 0 or more\n",
    "x=re.findall(\"he.*o\",txt) # * for no of values ah vennam lum erukalam\n",
    "print(x)\n",
    "      "
   ]
  },
  {
   "cell_type": "code",
   "execution_count": 21,
   "id": "ceb06bc3",
   "metadata": {},
   "outputs": [
    {
     "name": "stdout",
     "output_type": "stream",
     "text": [
      "[]\n"
     ]
    }
   ],
   "source": [
    "x=re.findall(\"he.?o\",txt) \n",
    "print(x)"
   ]
  },
  {
   "cell_type": "code",
   "execution_count": 19,
   "id": "8ae44ad4",
   "metadata": {},
   "outputs": [],
   "source": [
    "###| symbol"
   ]
  },
  {
   "cell_type": "code",
   "execution_count": 23,
   "id": "51dbe3fa",
   "metadata": {},
   "outputs": [
    {
     "name": "stdout",
     "output_type": "stream",
     "text": [
      "['falls', 'plain']\n",
      "yes there is atleast one match\n"
     ]
    }
   ],
   "source": [
    " txt=\"the rain in spain falls mainly in the plain\"# -->is used to match a particular char or group of char\n",
    "x=re.findall(\"falls|plain\",txt)\n",
    "print(x)\n",
    "if x:\n",
    "    print(\"yes there is atleast one match\")\n",
    "else:\n",
    "    print(\"no match\")"
   ]
  },
  {
   "cell_type": "code",
   "execution_count": 33,
   "id": "5d83ac6f",
   "metadata": {},
   "outputs": [
    {
     "name": "stdout",
     "output_type": "stream",
     "text": [
      "['in', 'in', 'in', 'falls', 'in', 'in', 'in']\n",
      "yes there is atleast one match ['in', 'in', 'in', 'falls', 'in', 'in', 'in']\n"
     ]
    }
   ],
   "source": [
    "txt=\"the rain in spain falls mainly in the plain\"# -->is used to match a particular char or group of char\n",
    "x=re.findall(\"falls|in\",txt)\n",
    "print(x)\n",
    "if x:\n",
    "    print(\"yes there is atleast one match\",x)\n",
    "else:\n",
    "    print(\"no match\")"
   ]
  },
  {
   "cell_type": "code",
   "execution_count": 30,
   "id": "2033d55b",
   "metadata": {},
   "outputs": [
    {
     "name": "stdout",
     "output_type": "stream",
     "text": [
      "['r']\n",
      "yes there is atleast one match\n"
     ]
    }
   ],
   "source": [
    "txt=\"the rain in spain falls mainly in the plain\"# -->is used to match a particular char or group of char\n",
    "x=re.findall(\"we|u|r\",txt)\n",
    "print(x)\n",
    "if x:\n",
    "    print(\"yes there is atleast one match\")\n",
    "else:\n",
    "    print(\"no match\")"
   ]
  },
  {
   "cell_type": "code",
   "execution_count": 32,
   "id": "c887a9a3",
   "metadata": {
    "scrolled": false
   },
   "outputs": [
    {
     "name": "stdout",
     "output_type": "stream",
     "text": [
      "['', '', '', '', '', '', '', '', '', '', '', '', '', '', '', '', '', '', '', '', '', '', '', '', '', '', '', '', '', '', '', '', '', '', '', '', '', '', '', '', '', '', '', '']\n",
      "yes there is atleast one match ['', '', '', '', '', '', '', '', '', '', '', '', '', '', '', '', '', '', '', '', '', '', '', '', '', '', '', '', '', '', '', '', '', '', '', '', '', '', '', '', '', '', '', '']\n"
     ]
    }
   ],
   "source": [
    "txt=\"the rain in spain falls mainly in the plain\"# -->is used to match a particular char or group of char\n",
    "x=re.findall(\"|\",txt)\n",
    "print(x)\n",
    "if x:\n",
    "    print(\"yes there is atleast one match\",x)\n",
    "else:\n",
    "    print(\"no match\")"
   ]
  },
  {
   "cell_type": "code",
   "execution_count": null,
   "id": "68da7ea1",
   "metadata": {},
   "outputs": [],
   "source": [
    "import numpy as np\n"
   ]
  }
 ],
 "metadata": {
  "kernelspec": {
   "display_name": "Python 3 (ipykernel)",
   "language": "python",
   "name": "python3"
  },
  "language_info": {
   "codemirror_mode": {
    "name": "ipython",
    "version": 3
   },
   "file_extension": ".py",
   "mimetype": "text/x-python",
   "name": "python",
   "nbconvert_exporter": "python",
   "pygments_lexer": "ipython3",
   "version": "3.10.9"
  }
 },
 "nbformat": 4,
 "nbformat_minor": 5
}
