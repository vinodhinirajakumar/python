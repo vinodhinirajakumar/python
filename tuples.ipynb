{
 "cells": [
  {
   "cell_type": "code",
   "execution_count": 1,
   "id": "775fd8bd",
   "metadata": {},
   "outputs": [
    {
     "data": {
      "text/plain": [
       "(3, 3, 3, 4, 5)"
      ]
     },
     "execution_count": 1,
     "metadata": {},
     "output_type": "execute_result"
    }
   ],
   "source": [
    "# elements repeat agum\n",
    "tup=(3,3,3,4,5)\n",
    "tup"
   ]
  },
  {
   "cell_type": "code",
   "execution_count": 21,
   "id": "6a0ec592",
   "metadata": {},
   "outputs": [
    {
     "data": {
      "text/plain": [
       "2"
      ]
     },
     "execution_count": 21,
     "metadata": {},
     "output_type": "execute_result"
    }
   ],
   "source": [
    "tup=(4,4,6,6,6,8,9)\n",
    "tup.count(4)\n"
   ]
  },
  {
   "cell_type": "code",
   "execution_count": 22,
   "id": "0870a815",
   "metadata": {},
   "outputs": [
    {
     "data": {
      "text/plain": [
       "2"
      ]
     },
     "execution_count": 22,
     "metadata": {},
     "output_type": "execute_result"
    }
   ],
   "source": [
    "tup.index(6)"
   ]
  },
  {
   "cell_type": "code",
   "execution_count": 17,
   "id": "cdc1a1b1",
   "metadata": {},
   "outputs": [
    {
     "name": "stdout",
     "output_type": "stream",
     "text": [
      "3\n",
      "4\n",
      "5\n",
      "8\n",
      "9\n",
      "10\n"
     ]
    }
   ],
   "source": [
    "list=[3,4,5,6,7,8,9,10]\n",
    "for i in list:\n",
    "    if i==6 or i==7:\n",
    "        continue\n",
    "    print(i)\n",
    "       "
   ]
  },
  {
   "cell_type": "code",
   "execution_count": 26,
   "id": "8343a3b0",
   "metadata": {},
   "outputs": [
    {
     "name": "stdout",
     "output_type": "stream",
     "text": [
      "[4, 7, 8, 10]\n"
     ]
    }
   ],
   "source": [
    "list2=[1,3,3,4]\n",
    "list1=[3,4,5,6]\n",
    "list3=[]\n",
    "for i in range(len(list1)):\n",
    "    list3.append(list2[i]+list1[i])\n",
    "print(list3)"
   ]
  },
  {
   "cell_type": "code",
   "execution_count": 1,
   "id": "8c7db178",
   "metadata": {},
   "outputs": [
    {
     "name": "stdout",
     "output_type": "stream",
     "text": [
      "15\n",
      "0\n",
      "helloo everyonegood morning\n",
      "elloo \n",
      "eloeey\n"
     ]
    }
   ],
   "source": [
    "str1=\"helloo everyone\"\n",
    "str2=\"good morning\"\n",
    "a=len(str1)\n",
    "print(a)\n",
    "b=str2.index('m')\n",
    "print(b)\n",
    "c=str1+str2\n",
    "print(c)\n",
    "print(str1[1:7])\n",
    "print(str1[1:13:2])"
   ]
  },
  {
   "cell_type": "code",
   "execution_count": 50,
   "id": "97722506",
   "metadata": {},
   "outputs": [
    {
     "name": "stdout",
     "output_type": "stream",
     "text": [
      "* \n",
      "\n",
      "* * \n",
      "\n",
      "* * * \n",
      "\n",
      "* * * * \n",
      "\n"
     ]
    }
   ],
   "source": [
    "for i in range(1,5,1):\n",
    "    for j in range(i):\n",
    "        print(\"*\",end=' ')\n",
    "        i=i+1\n",
    "    print(\"\\n\")\n",
    "        \n",
    "        "
   ]
  },
  {
   "cell_type": "code",
   "execution_count": 68,
   "id": "c8d0e9f4",
   "metadata": {},
   "outputs": [
    {
     "name": "stdout",
     "output_type": "stream",
     "text": [
      "6 6 6 6 6 6 \n",
      "\n",
      "5 5 5 5 5 \n",
      "\n",
      "4 4 4 4 \n",
      "\n",
      "3 3 3 \n",
      "\n",
      "2 2 \n",
      "\n"
     ]
    }
   ],
   "source": [
    "for i in range(6,1,-1):\n",
    "    for j in range(i):\n",
    "        print(i,end=' ')\n",
    "    print(\"\\n\")"
   ]
  },
  {
   "cell_type": "code",
   "execution_count": 88,
   "id": "8a5945f3",
   "metadata": {},
   "outputs": [
    {
     "name": "stdout",
     "output_type": "stream",
     "text": [
      "4 5 6 7 \n",
      "\n",
      "3 4 5 \n",
      "\n",
      "2 3 \n",
      "\n",
      "1 \n",
      "\n"
     ]
    }
   ],
   "source": [
    "n = 4\n",
    "for i in range(n, 0, -1):\n",
    "    for j in range(i):\n",
    "        print(i, end=\" \")\n",
    "        i=i+1\n",
    "    print(\"\\n\")\n",
    "\n"
   ]
  },
  {
   "cell_type": "code",
   "execution_count": 72,
   "id": "5bd31735",
   "metadata": {},
   "outputs": [
    {
     "name": "stdout",
     "output_type": "stream",
     "text": [
      "enter the number:7\n",
      "enter the number:3\n",
      "0\n",
      "1\n",
      "2\n",
      "4\n",
      "5\n",
      "6\n",
      "8\n",
      "9\n"
     ]
    }
   ],
   "source": [
    "x=int(input(\"enter the number:\"))\n",
    "y=int(input(\"enter the number:\"))\n",
    "for i in range(10):\n",
    "    if i==x or i== y :\n",
    "        continue\n",
    "    print(i)"
   ]
  },
  {
   "cell_type": "code",
   "execution_count": 80,
   "id": "ac36c0c7",
   "metadata": {},
   "outputs": [
    {
     "name": "stdout",
     "output_type": "stream",
     "text": [
      "1 \n",
      "\n",
      "2 3 \n",
      "\n",
      "3 4 5 \n",
      "\n",
      "4 5 6 7 \n",
      "\n"
     ]
    }
   ],
   "source": [
    "for i in range(1,5,1):\n",
    "    for j in range(i):\n",
    "        print(i,end=' ')\n",
    "        i=i+1\n",
    "       \n",
    "    print(\"\\n\")"
   ]
  },
  {
   "cell_type": "markdown",
   "id": "24edc563",
   "metadata": {},
   "source": []
  },
  {
   "cell_type": "code",
   "execution_count": 103,
   "id": "91df6ebe",
   "metadata": {},
   "outputs": [
    {
     "name": "stdout",
     "output_type": "stream",
     "text": [
      "enter the  number5\n",
      "1\n",
      "2\n",
      "3\n",
      "5\n",
      "8\n",
      "[2, 8]\n",
      "[1, 3, 5]\n"
     ]
    }
   ],
   "source": [
    "a=0\n",
    "b=1\n",
    "c=1\n",
    "i=0\n",
    "even=[]\n",
    "odd=[]\n",
    "n=int(input(\"enter the  number\"))\n",
    "while(i<n):\n",
    "    c=a+b\n",
    "    a=b\n",
    "    b=c\n",
    "    i=i+1\n",
    "    print(c)\n",
    "    if(c%2==0):\n",
    "        even.append(c)\n",
    "    else:\n",
    "        odd.append(c)\n",
    "    \n",
    "print(even) \n",
    "print(odd)  "
   ]
  },
  {
   "cell_type": "code",
   "execution_count": 7,
   "id": "b74cefc1",
   "metadata": {},
   "outputs": [
    {
     "name": "stdout",
     "output_type": "stream",
     "text": [
      "search elemnt5\n",
      "0 9\n",
      "1 8\n",
      "2 7\n",
      "3 6\n",
      "4 5\n",
      " value element found at the index 5 4\n"
     ]
    }
   ],
   "source": [
    "list1=[9,8,7,6,5]\n",
    "c=int(input(\"search elemnt\"))\n",
    "for i ,value in enumerate(list1):\n",
    "    print(i,value)\n",
    "    if value==c:\n",
    "        print(\" value element found at the index\",value,i)"
   ]
  },
  {
   "cell_type": "code",
   "execution_count": 11,
   "id": "563d9995",
   "metadata": {},
   "outputs": [
    {
     "name": "stdout",
     "output_type": "stream",
     "text": [
      "[10, 1, 2, 3, 4, 5, 67, 7]\n"
     ]
    }
   ],
   "source": [
    "tup=[1,2,3,4,5,67,7]\n",
    "tup.insert(0,10)\n",
    "print(tup)"
   ]
  },
  {
   "cell_type": "code",
   "execution_count": 14,
   "id": "0ce70c3e",
   "metadata": {},
   "outputs": [
    {
     "name": "stdout",
     "output_type": "stream",
     "text": [
      "[10, 2, 3, 4, 67, 7]\n"
     ]
    }
   ],
   "source": [
    "for i in range(len(lst))"
   ]
  },
  {
   "cell_type": "code",
   "execution_count": null,
   "id": "11bd0ad5",
   "metadata": {},
   "outputs": [],
   "source": [
    "tim+"
   ]
  }
 ],
 "metadata": {
  "kernelspec": {
   "display_name": "Python 3 (ipykernel)",
   "language": "python",
   "name": "python3"
  },
  "language_info": {
   "codemirror_mode": {
    "name": "ipython",
    "version": 3
   },
   "file_extension": ".py",
   "mimetype": "text/x-python",
   "name": "python",
   "nbconvert_exporter": "python",
   "pygments_lexer": "ipython3",
   "version": "3.10.9"
  }
 },
 "nbformat": 4,
 "nbformat_minor": 5
}
