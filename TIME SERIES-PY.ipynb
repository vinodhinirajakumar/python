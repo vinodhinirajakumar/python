{
 "cells": [
  {
   "cell_type": "markdown",
   "id": "72e46d8c",
   "metadata": {},
   "source": [
    "# TIME SERIES"
   ]
  },
  {
   "cell_type": "raw",
   "id": "ebe590e0",
   "metadata": {},
   "source": [
    "TIME STAMPS ->PARTICULAR MOMENTS IN TIME\n",
    "TIME INTERVALS AND PERIODS ->LEN OF TIME B\\W PARTICULAR BEGINING AND END POINT \n",
    "TIME DELTAS ->DURATION REFERENCES EXACT LEN OF TIME"
   ]
  },
  {
   "cell_type": "code",
   "execution_count": 2,
   "id": "b0a4491a",
   "metadata": {},
   "outputs": [],
   "source": [
    "from datetime import datetime      ##  --->package"
   ]
  },
  {
   "cell_type": "code",
   "execution_count": 3,
   "id": "94f10ac1",
   "metadata": {},
   "outputs": [
    {
     "data": {
      "text/plain": [
       "datetime.datetime(2005, 7, 3, 0, 0)"
      ]
     },
     "execution_count": 3,
     "metadata": {},
     "output_type": "execute_result"
    }
   ],
   "source": [
    "datetime(year=2005,month=7,day=3)"
   ]
  },
  {
   "cell_type": "code",
   "execution_count": 4,
   "id": "a1cfb20c",
   "metadata": {},
   "outputs": [
    {
     "data": {
      "text/plain": [
       "datetime.datetime(2000, 5, 1, 0, 0)"
      ]
     },
     "execution_count": 4,
     "metadata": {},
     "output_type": "execute_result"
    }
   ],
   "source": [
    "datetime(2000,5,1)  # also crt"
   ]
  },
  {
   "cell_type": "code",
   "execution_count": 8,
   "id": "d7e8a8d5",
   "metadata": {},
   "outputs": [
    {
     "data": {
      "text/plain": [
       "datetime.datetime(2005, 7, 3, 0, 0)"
      ]
     },
     "execution_count": 8,
     "metadata": {},
     "output_type": "execute_result"
    }
   ],
   "source": [
    "from dateutil import parser       ##---->package\n",
    "date=parser.parse(\"3 of july,2005\")\n",
    "date"
   ]
  },
  {
   "cell_type": "code",
   "execution_count": 10,
   "id": "bef4363a",
   "metadata": {},
   "outputs": [
    {
     "data": {
      "text/plain": [
       "'Sunday'"
      ]
     },
     "execution_count": 10,
     "metadata": {},
     "output_type": "execute_result"
    }
   ],
   "source": [
    "date.strftime('%A')   ##->for the day when u specify the date it shows the day of it"
   ]
  },
  {
   "cell_type": "code",
   "execution_count": 11,
   "id": "0063ddaa",
   "metadata": {},
   "outputs": [
    {
     "data": {
      "text/plain": [
       "'Sun'"
      ]
     },
     "execution_count": 11,
     "metadata": {},
     "output_type": "execute_result"
    }
   ],
   "source": [
    "date.strftime('%a')"
   ]
  },
  {
   "cell_type": "code",
   "execution_count": 17,
   "id": "91d976ad",
   "metadata": {},
   "outputs": [
    {
     "data": {
      "text/plain": [
       "array('2005-07-03', dtype='datetime64[D]')"
      ]
     },
     "execution_count": 17,
     "metadata": {},
     "output_type": "execute_result"
    }
   ],
   "source": [
    "import numpy as np\n",
    "date=np.array('2005-07-03',dtype=np.datetime64)\n",
    "date"
   ]
  },
  {
   "cell_type": "code",
   "execution_count": 18,
   "id": "184e0459",
   "metadata": {},
   "outputs": [
    {
     "data": {
      "text/plain": [
       "array(['2005-07-03', '2005-07-04', '2005-07-05', '2005-07-06',\n",
       "       '2005-07-07', '2005-07-08', '2005-07-09', '2005-07-10',\n",
       "       '2005-07-11', '2005-07-12', '2005-07-13', '2005-07-14',\n",
       "       '2005-07-15'], dtype='datetime64[D]')"
      ]
     },
     "execution_count": 18,
     "metadata": {},
     "output_type": "execute_result"
    }
   ],
   "source": [
    "date + np.arange(13)    ##--->from 3 it starts to 15 it stops"
   ]
  },
  {
   "cell_type": "code",
   "execution_count": 19,
   "id": "e4bbfce9",
   "metadata": {},
   "outputs": [
    {
     "data": {
      "text/plain": [
       "array(['2005-07-03', '2005-07-02', '2005-07-01', '2005-06-30',\n",
       "       '2005-06-29', '2005-06-28', '2005-06-27', '2005-06-26',\n",
       "       '2005-06-25', '2005-06-24', '2005-06-23', '2005-06-22',\n",
       "       '2005-06-21'], dtype='datetime64[D]')"
      ]
     },
     "execution_count": 19,
     "metadata": {},
     "output_type": "execute_result"
    }
   ],
   "source": [
    "date - np.arange(13)      ##---> - na reverse order la print agum"
   ]
  },
  {
   "cell_type": "code",
   "execution_count": 21,
   "id": "ad6b5e17",
   "metadata": {},
   "outputs": [
    {
     "data": {
      "text/plain": [
       "numpy.datetime64('2005-03-07')"
      ]
     },
     "execution_count": 21,
     "metadata": {},
     "output_type": "execute_result"
    }
   ],
   "source": [
    "np.datetime64('2005-03-07')       ##-->numpy la drawback is format crt ah erukanum ist year month and date"
   ]
  },
  {
   "cell_type": "code",
   "execution_count": 27,
   "id": "bc2aa741",
   "metadata": {},
   "outputs": [
    {
     "data": {
      "text/plain": [
       "numpy.datetime64('2005-07-03T12:00')"
      ]
     },
     "execution_count": 27,
     "metadata": {},
     "output_type": "execute_result"
    }
   ],
   "source": [
    "np.datetime64('2005-07-03 12:00')"
   ]
  },
  {
   "cell_type": "code",
   "execution_count": 29,
   "id": "96bb8c52",
   "metadata": {},
   "outputs": [
    {
     "data": {
      "text/plain": [
       "numpy.datetime64('2005-07-03T12:16:30.000000000')"
      ]
     },
     "execution_count": 29,
     "metadata": {},
     "output_type": "execute_result"
    }
   ],
   "source": [
    "np.datetime64('2005-07-03 12:16:30','ns')   ##-->hour minute second ns na nanosecond"
   ]
  },
  {
   "cell_type": "code",
   "execution_count": 30,
   "id": "5290ced4",
   "metadata": {},
   "outputs": [
    {
     "data": {
      "text/plain": [
       "numpy.datetime64('1969-11-05T18:26:41.503717351424')"
      ]
     },
     "execution_count": 30,
     "metadata": {},
     "output_type": "execute_result"
    }
   ],
   "source": [
    "np.datetime64('2005-07-03 12:16:30','ps') "
   ]
  },
  {
   "cell_type": "markdown",
   "id": "c3541f47",
   "metadata": {},
   "source": [
    "# TIME SERIES IN PANDAS\n",
    "\n",
    "numpy has some drawbacks so we use pandas"
   ]
  },
  {
   "cell_type": "code",
   "execution_count": 47,
   "id": "74703b30",
   "metadata": {},
   "outputs": [
    {
     "data": {
      "text/plain": [
       "Timestamp('2005-07-03 00:00:00')"
      ]
     },
     "execution_count": 47,
     "metadata": {},
     "output_type": "execute_result"
    }
   ],
   "source": [
    "import pandas as pd\n",
    "date=pd.to_datetime(\"2005 ,3rd of july\")\n",
    "date"
   ]
  },
  {
   "cell_type": "code",
   "execution_count": 48,
   "id": "ff263c11",
   "metadata": {},
   "outputs": [
    {
     "data": {
      "text/plain": [
       "Timestamp('2005-07-03 00:00:00')"
      ]
     },
     "execution_count": 48,
     "metadata": {},
     "output_type": "execute_result"
    }
   ],
   "source": [
    "date=pd.to_datetime(\"july 2005 3rd\") ## also crt diff formats  but same ans\n",
    "date"
   ]
  },
  {
   "cell_type": "code",
   "execution_count": 49,
   "id": "fbf4bc42",
   "metadata": {},
   "outputs": [
    {
     "data": {
      "text/plain": [
       "'Sunday'"
      ]
     },
     "execution_count": 49,
     "metadata": {},
     "output_type": "execute_result"
    }
   ],
   "source": [
    "date.strftime(\"%A\")"
   ]
  },
  {
   "cell_type": "code",
   "execution_count": 50,
   "id": "26319c61",
   "metadata": {},
   "outputs": [
    {
     "data": {
      "text/plain": [
       "Timestamp('2001-02-23 00:00:00')"
      ]
     },
     "execution_count": 50,
     "metadata": {},
     "output_type": "execute_result"
    }
   ],
   "source": [
    "date=pd.to_datetime(\"2001 ,23rd of feb\")\n",
    "date"
   ]
  },
  {
   "cell_type": "code",
   "execution_count": 51,
   "id": "7d69d073",
   "metadata": {},
   "outputs": [
    {
     "data": {
      "text/plain": [
       "'Friday'"
      ]
     },
     "execution_count": 51,
     "metadata": {},
     "output_type": "execute_result"
    }
   ],
   "source": [
    "date.strftime(\"%A\")"
   ]
  },
  {
   "cell_type": "code",
   "execution_count": 52,
   "id": "d13d9515",
   "metadata": {},
   "outputs": [
    {
     "data": {
      "text/plain": [
       "DatetimeIndex(['2001-02-23', '2001-02-24', '2001-02-25', '2001-02-26',\n",
       "               '2001-02-27'],\n",
       "              dtype='datetime64[ns]', freq=None)"
      ]
     },
     "execution_count": 52,
     "metadata": {},
     "output_type": "execute_result"
    }
   ],
   "source": [
    "date +pd.to_timedelta(np.arange(5),'D')"
   ]
  },
  {
   "cell_type": "code",
   "execution_count": 53,
   "id": "c8f38b81",
   "metadata": {},
   "outputs": [
    {
     "data": {
      "text/plain": [
       "DatetimeIndex(['2001-02-23', '2001-02-22', '2001-02-21', '2001-02-20',\n",
       "               '2001-02-19'],\n",
       "              dtype='datetime64[ns]', freq=None)"
      ]
     },
     "execution_count": 53,
     "metadata": {},
     "output_type": "execute_result"
    }
   ],
   "source": [
    "date - pd.to_timedelta(np.arange(5),'d')"
   ]
  },
  {
   "cell_type": "code",
   "execution_count": 55,
   "id": "6e63216f",
   "metadata": {},
   "outputs": [
    {
     "data": {
      "text/plain": [
       "2001-02-23    0\n",
       "2001-02-22    1\n",
       "2001-02-21    2\n",
       "2001-02-20    3\n",
       "dtype: int64"
      ]
     },
     "execution_count": 55,
     "metadata": {},
     "output_type": "execute_result"
    }
   ],
   "source": [
    "index=pd.DatetimeIndex(['2001-02-23','2001-02-22', '2001-02-21', '2001-02-20'])\n",
    "data=pd.Series([0,1,2,3],index=index)\n",
    "data"
   ]
  },
  {
   "cell_type": "code",
   "execution_count": 57,
   "id": "9c320514",
   "metadata": {},
   "outputs": [
    {
     "data": {
      "text/plain": [
       "2001-02-23 12:00:00    0\n",
       "2001-02-22 10:30:00    1\n",
       "2001-02-21 00:00:00    2\n",
       "2001-02-20 00:00:00    3\n",
       "dtype: int64"
      ]
     },
     "execution_count": 57,
     "metadata": {},
     "output_type": "execute_result"
    }
   ],
   "source": [
    "index=pd.DatetimeIndex(['2001-02-23 12:00','2001-02-22 10:30', '2001-02-21', '2001-02-20'])\n",
    "data=pd.Series([0,1,2,3],index=index)\n",
    "data"
   ]
  },
  {
   "cell_type": "code",
   "execution_count": 65,
   "id": "12738e85",
   "metadata": {},
   "outputs": [
    {
     "data": {
      "text/plain": [
       "2001-02-21    2\n",
       "2001-02-20    3\n",
       "dtype: int64"
      ]
     },
     "execution_count": 65,
     "metadata": {},
     "output_type": "execute_result"
    }
   ],
   "source": [
    "data[2:]"
   ]
  },
  {
   "cell_type": "code",
   "execution_count": 66,
   "id": "822cea26",
   "metadata": {},
   "outputs": [
    {
     "data": {
      "text/plain": [
       "2001-02-23 12:00:00    0\n",
       "dtype: int64"
      ]
     },
     "execution_count": 66,
     "metadata": {},
     "output_type": "execute_result"
    }
   ],
   "source": [
    "data['2001-02-23']"
   ]
  },
  {
   "cell_type": "code",
   "execution_count": 70,
   "id": "81a46b18",
   "metadata": {},
   "outputs": [
    {
     "data": {
      "text/plain": [
       "2001-02-23 12:00:00    0\n",
       "2001-02-22 10:30:00    1\n",
       "2001-02-21 00:00:00    2\n",
       "2001-02-20 00:00:00    3\n",
       "dtype: int64"
      ]
     },
     "execution_count": 70,
     "metadata": {},
     "output_type": "execute_result"
    }
   ],
   "source": [
    "data['2001'] ##only year ku mattum varum not for month and date"
   ]
  },
  {
   "cell_type": "code",
   "execution_count": null,
   "id": "80e5769a",
   "metadata": {},
   "outputs": [],
   "source": [
    "##pandas in data structure"
   ]
  },
  {
   "cell_type": "code",
   "execution_count": 83,
   "id": "4ddf63ca",
   "metadata": {},
   "outputs": [
    {
     "data": {
      "text/plain": [
       "DatetimeIndex(['2005-07-03', '2005-07-05', '2006-07-03', '2005-07-03'], dtype='datetime64[ns]', freq=None)"
      ]
     },
     "execution_count": 83,
     "metadata": {},
     "output_type": "execute_result"
    }
   ],
   "source": [
    "dates=pd.to_datetime([datetime(2005,7,3),'5rd july 2005','2006-07-03','20050703'])\n",
    "dates"
   ]
  },
  {
   "cell_type": "code",
   "execution_count": 84,
   "id": "40a239ea",
   "metadata": {},
   "outputs": [
    {
     "data": {
      "text/plain": [
       "PeriodIndex(['2005-07-03', '2005-07-05', '2006-07-03', '2005-07-03'], dtype='period[D]')"
      ]
     },
     "execution_count": 84,
     "metadata": {},
     "output_type": "execute_result"
    }
   ],
   "source": [
    "dates.to_period('D')  ##-->date and day frequency"
   ]
  },
  {
   "cell_type": "code",
   "execution_count": 85,
   "id": "e5427026",
   "metadata": {},
   "outputs": [
    {
     "data": {
      "text/plain": [
       "TimedeltaIndex(['0 days', '2 days', '365 days', '0 days'], dtype='timedelta64[ns]', freq=None)"
      ]
     },
     "execution_count": 85,
     "metadata": {},
     "output_type": "execute_result"
    }
   ],
   "source": [
    "dates -dates[0] ##-->the diff b/w the dates"
   ]
  },
  {
   "cell_type": "code",
   "execution_count": 89,
   "id": "b4849748",
   "metadata": {},
   "outputs": [
    {
     "data": {
      "text/plain": [
       "DatetimeIndex(['2006-07-03', '2006-07-04', '2006-07-05', '2006-07-06',\n",
       "               '2006-07-07', '2006-07-08', '2006-07-09', '2006-07-10',\n",
       "               '2006-07-11', '2006-07-12',\n",
       "               ...\n",
       "               '2007-06-24', '2007-06-25', '2007-06-26', '2007-06-27',\n",
       "               '2007-06-28', '2007-06-29', '2007-06-30', '2007-07-01',\n",
       "               '2007-07-02', '2007-07-03'],\n",
       "              dtype='datetime64[ns]', length=366, freq='D')"
      ]
     },
     "execution_count": 89,
     "metadata": {},
     "output_type": "execute_result"
    }
   ],
   "source": [
    "pd.date_range('2006-07-03','07-03-2007')"
   ]
  },
  {
   "cell_type": "code",
   "execution_count": 90,
   "id": "d27bce16",
   "metadata": {},
   "outputs": [
    {
     "data": {
      "text/plain": [
       "DatetimeIndex(['2006-07-03', '2006-07-04', '2006-07-05', '2006-07-06'], dtype='datetime64[ns]', freq='D')"
      ]
     },
     "execution_count": 90,
     "metadata": {},
     "output_type": "execute_result"
    }
   ],
   "source": [
    "pd.date_range('2006-07-03',periods =4)"
   ]
  },
  {
   "cell_type": "code",
   "execution_count": 91,
   "id": "2beeac9f",
   "metadata": {},
   "outputs": [
    {
     "data": {
      "text/plain": [
       "DatetimeIndex(['2006-07-03', '2006-07-04', '2006-07-05', '2006-07-06',\n",
       "               '2006-07-07', '2006-07-08', '2006-07-09', '2006-07-10',\n",
       "               '2006-07-11', '2006-07-12', '2006-07-13', '2006-07-14',\n",
       "               '2006-07-15', '2006-07-16', '2006-07-17', '2006-07-18',\n",
       "               '2006-07-19', '2006-07-20', '2006-07-21', '2006-07-22',\n",
       "               '2006-07-23', '2006-07-24', '2006-07-25', '2006-07-26',\n",
       "               '2006-07-27', '2006-07-28', '2006-07-29', '2006-07-30',\n",
       "               '2006-07-31', '2006-08-01', '2006-08-02', '2006-08-03',\n",
       "               '2006-08-04', '2006-08-05', '2006-08-06', '2006-08-07',\n",
       "               '2006-08-08', '2006-08-09', '2006-08-10', '2006-08-11',\n",
       "               '2006-08-12', '2006-08-13', '2006-08-14', '2006-08-15',\n",
       "               '2006-08-16', '2006-08-17', '2006-08-18', '2006-08-19',\n",
       "               '2006-08-20', '2006-08-21', '2006-08-22', '2006-08-23',\n",
       "               '2006-08-24', '2006-08-25', '2006-08-26', '2006-08-27',\n",
       "               '2006-08-28', '2006-08-29', '2006-08-30', '2006-08-31',\n",
       "               '2006-09-01', '2006-09-02', '2006-09-03'],\n",
       "              dtype='datetime64[ns]', freq='D')"
      ]
     },
     "execution_count": 91,
     "metadata": {},
     "output_type": "execute_result"
    }
   ],
   "source": [
    "pd.date_range('2006-07-03','09-03-2006')"
   ]
  },
  {
   "cell_type": "code",
   "execution_count": 92,
   "id": "9e515a30",
   "metadata": {},
   "outputs": [
    {
     "data": {
      "text/plain": [
       "DatetimeIndex(['2006-07-03', '2006-07-04', '2006-07-05', '2006-07-06',\n",
       "               '2006-07-07', '2006-07-08', '2006-07-09', '2006-07-10',\n",
       "               '2006-07-11', '2006-07-12',\n",
       "               ...\n",
       "               '2009-03-19', '2009-03-20', '2009-03-21', '2009-03-22',\n",
       "               '2009-03-23', '2009-03-24', '2009-03-25', '2009-03-26',\n",
       "               '2009-03-27', '2009-03-28'],\n",
       "              dtype='datetime64[ns]', length=1000, freq='D')"
      ]
     },
     "execution_count": 92,
     "metadata": {},
     "output_type": "execute_result"
    }
   ],
   "source": [
    "pd.date_range('2006-07-03',periods =1000)"
   ]
  },
  {
   "cell_type": "code",
   "execution_count": 94,
   "id": "77e21c71",
   "metadata": {},
   "outputs": [
    {
     "data": {
      "text/plain": [
       "DatetimeIndex(['2006-07-03 00:00:00', '2006-07-03 01:00:00',\n",
       "               '2006-07-03 02:00:00', '2006-07-03 03:00:00'],\n",
       "              dtype='datetime64[ns]', freq='H')"
      ]
     },
     "execution_count": 94,
     "metadata": {},
     "output_type": "execute_result"
    }
   ],
   "source": [
    "pd.date_range('2006-07-03',periods =4,freq='H')"
   ]
  },
  {
   "cell_type": "code",
   "execution_count": null,
   "id": "a6b88edf",
   "metadata": {},
   "outputs": [],
   "source": [
    "z"
   ]
  }
 ],
 "metadata": {
  "kernelspec": {
   "display_name": "Python 3 (ipykernel)",
   "language": "python",
   "name": "python3"
  },
  "language_info": {
   "codemirror_mode": {
    "name": "ipython",
    "version": 3
   },
   "file_extension": ".py",
   "mimetype": "text/x-python",
   "name": "python",
   "nbconvert_exporter": "python",
   "pygments_lexer": "ipython3",
   "version": "3.10.9"
  }
 },
 "nbformat": 4,
 "nbformat_minor": 5
}
