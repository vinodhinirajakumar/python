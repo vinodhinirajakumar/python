{
 "cells": [
  {
   "cell_type": "markdown",
   "id": "74c883d0",
   "metadata": {},
   "source": [
    "# AGGREGATE FUNCTIONS:"
   ]
  },
  {
   "cell_type": "markdown",
   "id": "4a85a883",
   "metadata": {},
   "source": [
    "1)SUM\n",
    "2)PROD\n",
    "3) MEAN\n",
    "4) STD\n",
    "5)VAR\n",
    "6)MIN\n",
    "7)MAX\n",
    "8)argmin and argmax"
   ]
  },
  {
   "cell_type": "markdown",
   "id": "1db4a83d",
   "metadata": {},
   "source": [
    "# SUM"
   ]
  },
  {
   "cell_type": "code",
   "execution_count": 1,
   "id": "e3f70572",
   "metadata": {},
   "outputs": [
    {
     "data": {
      "text/plain": [
       "array([ 2,  4,  6,  8, 10, 12, 14, 16, 18])"
      ]
     },
     "execution_count": 1,
     "metadata": {},
     "output_type": "execute_result"
    }
   ],
   "source": [
    "import numpy as np\n",
    "a=np.arange(2,20,2)\n",
    "a"
   ]
  },
  {
   "cell_type": "code",
   "execution_count": 2,
   "id": "7fff769e",
   "metadata": {},
   "outputs": [
    {
     "data": {
      "text/plain": [
       "90"
      ]
     },
     "execution_count": 2,
     "metadata": {},
     "output_type": "execute_result"
    }
   ],
   "source": [
    "np.sum(a) ##-->b=np.sum(a)   b\n"
   ]
  },
  {
   "cell_type": "code",
   "execution_count": 3,
   "id": "15a309db",
   "metadata": {},
   "outputs": [
    {
     "data": {
      "text/plain": [
       "array([18, 15,  7, 18, 11, 10])"
      ]
     },
     "execution_count": 3,
     "metadata": {},
     "output_type": "execute_result"
    }
   ],
   "source": [
    "b=np.random.randint(2,20,6)\n",
    "b"
   ]
  },
  {
   "cell_type": "code",
   "execution_count": 4,
   "id": "c26eee7c",
   "metadata": {},
   "outputs": [
    {
     "data": {
      "text/plain": [
       "79"
      ]
     },
     "execution_count": 4,
     "metadata": {},
     "output_type": "execute_result"
    }
   ],
   "source": [
    "np.sum(b)"
   ]
  },
  {
   "cell_type": "markdown",
   "id": "0dcf0389",
   "metadata": {},
   "source": [
    "# MIN()AND MAX():"
   ]
  },
  {
   "cell_type": "code",
   "execution_count": 5,
   "id": "5cb4558e",
   "metadata": {},
   "outputs": [
    {
     "name": "stdout",
     "output_type": "stream",
     "text": [
      "[46 32 67 86 56 22 47 91 62 88 28 40 49 68 65 33 72 44 40 85 83 29 85 67\n",
      " 99 42 99 71 90 80]\n"
     ]
    },
    {
     "data": {
      "text/plain": [
       "(22, 99)"
      ]
     },
     "execution_count": 5,
     "metadata": {},
     "output_type": "execute_result"
    }
   ],
   "source": [
    "a=np.random.randint(22,100,30)\n",
    "print(a)\n",
    "np.min(a),np.max(a)"
   ]
  },
  {
   "cell_type": "code",
   "execution_count": 6,
   "id": "76bca835",
   "metadata": {},
   "outputs": [
    {
     "data": {
      "text/plain": [
       "(22, 99, 1866)"
      ]
     },
     "execution_count": 6,
     "metadata": {},
     "output_type": "execute_result"
    }
   ],
   "source": [
    "(np.min(a),np.max(a),np.sum(a))"
   ]
  },
  {
   "cell_type": "code",
   "execution_count": 7,
   "id": "f0ca35d5",
   "metadata": {},
   "outputs": [
    {
     "data": {
      "text/plain": [
       "22"
      ]
     },
     "execution_count": 7,
     "metadata": {},
     "output_type": "execute_result"
    }
   ],
   "source": [
    "a.min()  #-->like this also we can give"
   ]
  },
  {
   "cell_type": "markdown",
   "id": "3da86e36",
   "metadata": {},
   "source": [
    "\n",
    "# IN TWO DIMENSIONAL ARRAY"
   ]
  },
  {
   "cell_type": "code",
   "execution_count": 8,
   "id": "5124171f",
   "metadata": {},
   "outputs": [
    {
     "name": "stdout",
     "output_type": "stream",
     "text": [
      "[[4 5 3]\n",
      " [4 3 2]]\n",
      "21 2 5\n"
     ]
    }
   ],
   "source": [
    "a=np.random.randint(2,10,(2,3))\n",
    "print(a)\n",
    "print(a.sum(),a.min(),a.max())"
   ]
  },
  {
   "cell_type": "code",
   "execution_count": 9,
   "id": "8428f6a8",
   "metadata": {},
   "outputs": [
    {
     "data": {
      "text/plain": [
       "array([4, 3, 2])"
      ]
     },
     "execution_count": 9,
     "metadata": {},
     "output_type": "execute_result"
    }
   ],
   "source": [
    "a.min(axis=0)  ##---> axis=0 column la min value it will return"
   ]
  },
  {
   "cell_type": "code",
   "execution_count": 10,
   "id": "e4405e55",
   "metadata": {},
   "outputs": [
    {
     "data": {
      "text/plain": [
       "array([5, 4])"
      ]
     },
     "execution_count": 10,
     "metadata": {},
     "output_type": "execute_result"
    }
   ],
   "source": [
    "a.max(axis=1)#--->axis=1 row la max value return pannum"
   ]
  },
  {
   "cell_type": "code",
   "execution_count": 11,
   "id": "b21bd492",
   "metadata": {},
   "outputs": [
    {
     "name": "stdout",
     "output_type": "stream",
     "text": [
      "[12  9]\n",
      "[8 8 5]\n"
     ]
    }
   ],
   "source": [
    "b=a.sum(axis=1)#row la sum panni return pannum\n",
    "print(b)\n",
    "c=a.sum(axis=0)#column la sum panni return agum\n",
    "print(c)"
   ]
  },
  {
   "cell_type": "markdown",
   "id": "d06dfd01",
   "metadata": {},
   "source": [
    "# PRODUCT():"
   ]
  },
  {
   "cell_type": "code",
   "execution_count": 12,
   "id": "53fc1ec9",
   "metadata": {},
   "outputs": [
    {
     "name": "stdout",
     "output_type": "stream",
     "text": [
      "[[ 3  4  5]\n",
      " [ 6  7  8]\n",
      " [ 9 10 11]\n",
      " [12 13 14]\n",
      " [15 16 17]\n",
      " [18 19 20]]\n"
     ]
    }
   ],
   "source": [
    "c=np.arange(3,21)\n",
    "b=c.reshape(6,3)\n",
    "print(b)"
   ]
  },
  {
   "cell_type": "code",
   "execution_count": 13,
   "id": "ef726bb3",
   "metadata": {},
   "outputs": [
    {
     "data": {
      "text/plain": [
       "1096417280"
      ]
     },
     "execution_count": 13,
     "metadata": {},
     "output_type": "execute_result"
    }
   ],
   "source": [
    "np.prod(b)"
   ]
  },
  {
   "cell_type": "code",
   "execution_count": 15,
   "id": "2a0a08ec",
   "metadata": {},
   "outputs": [
    {
     "data": {
      "text/plain": [
       "12"
      ]
     },
     "execution_count": 15,
     "metadata": {},
     "output_type": "execute_result"
    }
   ],
   "source": [
    "np.prod([[2,3],[2,1]])"
   ]
  },
  {
   "cell_type": "markdown",
   "id": "bda9b30a",
   "metadata": {},
   "source": [
    "# MEAN(:"
   ]
  },
  {
   "cell_type": "code",
   "execution_count": 71,
   "id": "0b8000ee",
   "metadata": {},
   "outputs": [
    {
     "data": {
      "text/plain": [
       "10.333333333333334"
      ]
     },
     "execution_count": 71,
     "metadata": {},
     "output_type": "execute_result"
    }
   ],
   "source": [
    "a=np.array([[3,4],[10,15],[10,20]])#-->RETURNS MEAN VALUE\n",
    "a.mean()#-->3.5+12.5+15.0=31/3=10.33333"
   ]
  },
  {
   "cell_type": "code",
   "execution_count": 74,
   "id": "73c3a9bd",
   "metadata": {},
   "outputs": [
    {
     "name": "stdout",
     "output_type": "stream",
     "text": [
      "3.5 12.5 15.0\n"
     ]
    }
   ],
   "source": [
    "a=np.mean([3,4])\n",
    "b=np.mean([10,15])\n",
    "c=np.mean([10,20])\n",
    "print(a ,b ,c)"
   ]
  },
  {
   "cell_type": "markdown",
   "id": "49c9ee6a",
   "metadata": {},
   "source": [
    "# STANDARD DEVIATION():"
   ]
  },
  {
   "cell_type": "code",
   "execution_count": 75,
   "id": "d51b8e16",
   "metadata": {},
   "outputs": [
    {
     "data": {
      "text/plain": [
       "5.678027826631356"
      ]
     },
     "execution_count": 75,
     "metadata": {},
     "output_type": "execute_result"
    }
   ],
   "source": [
    "a=np.array([[22,3,4,5,5],[1,2,3,4,5]])\n",
    "a.std()\n"
   ]
  },
  {
   "cell_type": "markdown",
   "id": "1c8c76c1",
   "metadata": {},
   "source": [
    "# VARIANCE\n",
    "\n"
   ]
  },
  {
   "cell_type": "code",
   "execution_count": 76,
   "id": "fb70a145",
   "metadata": {},
   "outputs": [
    {
     "data": {
      "text/plain": [
       "32.24000000000001"
      ]
     },
     "execution_count": 76,
     "metadata": {},
     "output_type": "execute_result"
    }
   ],
   "source": [
    "a.var()"
   ]
  },
  {
   "cell_type": "code",
   "execution_count": 77,
   "id": "8fc2636c",
   "metadata": {},
   "outputs": [
    {
     "name": "stdout",
     "output_type": "stream",
     "text": [
      "32\n"
     ]
    }
   ],
   "source": [
    "print(int(np.var(a)))"
   ]
  },
  {
   "cell_type": "markdown",
   "id": "2a358a30",
   "metadata": {},
   "source": [
    "\n",
    "# ARGMAX() AND ARGMAX()"
   ]
  },
  {
   "cell_type": "code",
   "execution_count": 80,
   "id": "7dde8bd2",
   "metadata": {},
   "outputs": [
    {
     "data": {
      "text/plain": [
       "array([9, 2, 9, 7, 7, 9, 2, 5, 8, 4])"
      ]
     },
     "execution_count": 80,
     "metadata": {},
     "output_type": "execute_result"
    }
   ],
   "source": [
    "arr=np.random.randint(2,10,10)\n",
    "arr"
   ]
  },
  {
   "cell_type": "code",
   "execution_count": 81,
   "id": "f9003481",
   "metadata": {},
   "outputs": [
    {
     "data": {
      "text/plain": [
       "0"
      ]
     },
     "execution_count": 81,
     "metadata": {},
     "output_type": "execute_result"
    }
   ],
   "source": [
    "arr.argmax()"
   ]
  },
  {
   "cell_type": "code",
   "execution_count": 82,
   "id": "6923cf0e",
   "metadata": {},
   "outputs": [
    {
     "data": {
      "text/plain": [
       "1"
      ]
     },
     "execution_count": 82,
     "metadata": {},
     "output_type": "execute_result"
    }
   ],
   "source": [
    "arr.argmin()"
   ]
  },
  {
   "cell_type": "markdown",
   "id": "47e810e4",
   "metadata": {},
   "source": [
    "# MEDIAN\n"
   ]
  },
  {
   "cell_type": "code",
   "execution_count": 84,
   "id": "66a12812",
   "metadata": {},
   "outputs": [
    {
     "data": {
      "text/plain": [
       "7.0"
      ]
     },
     "execution_count": 84,
     "metadata": {},
     "output_type": "execute_result"
    }
   ],
   "source": [
    "np.median(arr)"
   ]
  },
  {
   "cell_type": "markdown",
   "id": "0d7ae895",
   "metadata": {},
   "source": [
    "# INDEXING AND SORTING"
   ]
  },
  {
   "cell_type": "markdown",
   "id": "de0dd1a4",
   "metadata": {},
   "source": [
    "# LAB EX 2:"
   ]
  },
  {
   "cell_type": "markdown",
   "id": "dcfec794",
   "metadata": {},
   "source": [
    "# SORT():"
   ]
  },
  {
   "cell_type": "code",
   "execution_count": 92,
   "id": "5efb4b11",
   "metadata": {},
   "outputs": [
    {
     "name": "stdout",
     "output_type": "stream",
     "text": [
      "[ 8 22 25 17  9 18 17 13 21 16 21 13 23 17  9]\n",
      "the sorted array is [ 8  9  9 13 13 16 17 17 17 18 21 21 22 23 25]\n"
     ]
    }
   ],
   "source": [
    "import numpy as np   #--->sort the elements\n",
    "so=np.random.randint(2,30,15)\n",
    "print(so)\n",
    "b=np.sort(so)\n",
    "print(\"the sorted array is\",b)"
   ]
  },
  {
   "cell_type": "markdown",
   "id": "5a2ff7ed",
   "metadata": {},
   "source": [
    "# ARGSORT():"
   ]
  },
  {
   "cell_type": "code",
   "execution_count": 95,
   "id": "2fe2e13c",
   "metadata": {},
   "outputs": [
    {
     "name": "stdout",
     "output_type": "stream",
     "text": [
      "[ 0  4 14  7 11  9  3  6 13  5  8 10  1 12  2]\n"
     ]
    }
   ],
   "source": [
    "c=np.argsort(so)#--->argsort vanthu atho index position ah sort panni taranum\n",
    "print(c)"
   ]
  },
  {
   "cell_type": "markdown",
   "id": "07ddc82e",
   "metadata": {},
   "source": [
    "# SORTING ALONG ROWS AND COLUMNS"
   ]
  },
  {
   "cell_type": "code",
   "execution_count": 98,
   "id": "f6f1ffb4",
   "metadata": {},
   "outputs": [
    {
     "name": "stdout",
     "output_type": "stream",
     "text": [
      "[[ 7 15 11  8]\n",
      " [ 7 19 11 11]\n",
      " [ 4  8  3  2]\n",
      " [12  6  2  1]\n",
      " [12 12 17 10]]\n"
     ]
    }
   ],
   "source": [
    "rand=np.random.RandomState(42)\n",
    "x=rand.randint(1,20,(5,4))\n",
    "print(x)"
   ]
  },
  {
   "cell_type": "markdown",
   "id": "fc054144",
   "metadata": {},
   "source": [
    "# sort each column of x"
   ]
  },
  {
   "cell_type": "code",
   "execution_count": 99,
   "id": "186e3209",
   "metadata": {},
   "outputs": [
    {
     "data": {
      "text/plain": [
       "array([[ 4,  6,  2,  1],\n",
       "       [ 7,  8,  3,  2],\n",
       "       [ 7, 12, 11,  8],\n",
       "       [12, 15, 11, 10],\n",
       "       [12, 19, 17, 11]])"
      ]
     },
     "execution_count": 99,
     "metadata": {},
     "output_type": "execute_result"
    }
   ],
   "source": [
    "np.sort(x,axis=0) #-->sort the above matrix in column and returns"
   ]
  },
  {
   "cell_type": "markdown",
   "id": "c313e538",
   "metadata": {},
   "source": [
    "# sort each row of x"
   ]
  },
  {
   "cell_type": "code",
   "execution_count": 100,
   "id": "3175d7fa",
   "metadata": {},
   "outputs": [
    {
     "data": {
      "text/plain": [
       "array([[ 7,  8, 11, 15],\n",
       "       [ 7, 11, 11, 19],\n",
       "       [ 2,  3,  4,  8],\n",
       "       [ 1,  2,  6, 12],\n",
       "       [10, 12, 12, 17]])"
      ]
     },
     "execution_count": 100,
     "metadata": {},
     "output_type": "execute_result"
    }
   ],
   "source": [
    "np.sort(x,axis=1) #-->sort the above matrix in row and returns"
   ]
  },
  {
   "cell_type": "markdown",
   "id": "ea56a046",
   "metadata": {},
   "source": [
    "# REVERSE ORDER SORTING"
   ]
  },
  {
   "cell_type": "code",
   "execution_count": 101,
   "id": "c31464cb",
   "metadata": {},
   "outputs": [
    {
     "data": {
      "text/plain": [
       "array([[-15, -11,  -8,  -7],\n",
       "       [-19, -11, -11,  -7],\n",
       "       [ -8,  -4,  -3,  -2],\n",
       "       [-12,  -6,  -2,  -1],\n",
       "       [-17, -12, -12, -10]])"
      ]
     },
     "execution_count": 101,
     "metadata": {},
     "output_type": "execute_result"
    }
   ],
   "source": [
    "np.sort(-x)#--->matrix +ve all -ve ah change agum   then reverse la print agum"
   ]
  },
  {
   "cell_type": "markdown",
   "id": "e17b816a",
   "metadata": {},
   "source": [
    "# SORTING ARRAY ALPHABETICALLY\n"
   ]
  },
  {
   "cell_type": "code",
   "execution_count": 103,
   "id": "b20c695a",
   "metadata": {},
   "outputs": [
    {
     "name": "stdout",
     "output_type": "stream",
     "text": [
      "['angalo' 'austalia' 'china' 'japan' 'swiss']\n"
     ]
    }
   ],
   "source": [
    "arr=np.array(['austalia','japan','china','swiss','angalo'])\n",
    "print(np.sort(arr))"
   ]
  },
  {
   "cell_type": "markdown",
   "id": "d297c4b5",
   "metadata": {},
   "source": [
    "# SORTING BOOLEAN ARRAY "
   ]
  },
  {
   "cell_type": "markdown",
   "id": "c1a2995e",
   "metadata": {},
   "source": [
    "# arr=np.array([True,False,False,True])\n",
    "print(np.sort(arr))#---->it returns false because 0 then true"
   ]
  },
  {
   "cell_type": "markdown",
   "id": "d0d0a914",
   "metadata": {},
   "source": [
    "# SORTING 2D ARRAY"
   ]
  },
  {
   "cell_type": "code",
   "execution_count": 107,
   "id": "ebdd87ec",
   "metadata": {},
   "outputs": [
    {
     "name": "stdout",
     "output_type": "stream",
     "text": [
      "[[ 8  9 10]\n",
      " [ 2  3  4]]\n"
     ]
    }
   ],
   "source": [
    "arr=np.array([[10,8,9],[4,3,2]])\n",
    "print(np.sort(arr))"
   ]
  },
  {
   "cell_type": "markdown",
   "id": "afcac10a",
   "metadata": {},
   "source": [
    "# LEXSORT():"
   ]
  },
  {
   "cell_type": "code",
   "execution_count": 109,
   "id": "299f5192",
   "metadata": {},
   "outputs": [
    {
     "name": "stdout",
     "output_type": "stream",
     "text": [
      "[4 1 0 2 3]\n"
     ]
    }
   ],
   "source": [
    "a=(['ziva','renu','ram','geetha','vino'])\n",
    "b=([33,22,67,89,10])\n",
    "ind=np.lexsort((a,b))#-->a,b na a va vachi kittu b ah sort pannum b,a na b ah vachi kittu a va sort pannum\n",
    "print(ind)"
   ]
  },
  {
   "cell_type": "code",
   "execution_count": 110,
   "id": "e1d3f642",
   "metadata": {},
   "outputs": [
    {
     "name": "stdout",
     "output_type": "stream",
     "text": [
      "[3 2 1 4 0]\n"
     ]
    }
   ],
   "source": [
    "a=(['ziva','renu','ram','geetha','vino'])\n",
    "b=([33,22,67,89,10])\n",
    "ind=np.lexsort((b,a))#-->a,b na a va vachi kittu b ah sort pannum b,a na b ah vachi kittu a va sort pannum\n",
    "print(ind)"
   ]
  },
  {
   "cell_type": "code",
   "execution_count": 111,
   "id": "562536c6",
   "metadata": {},
   "outputs": [
    {
     "name": "stdout",
     "output_type": "stream",
     "text": [
      "[3 2 1 4 5 0]\n"
     ]
    }
   ],
   "source": [
    "#-->if suppose oru ethula same values eruinthuchuna athuku kela eruka values ah pakkum\n",
    "#eg:ziva two times eruku so namba athuku keza eruka value va pakkanum ziva 33 then ziva 9\n",
    "# which is less 9 so 5th pos la ziva eruku atha print pannum\n",
    "    \n",
    "a=(['ziva','renu','ram','geetha','vino','ziva'])\n",
    "b=([33,22,67,89,10,9])\n",
    "ind=np.lexsort((b,a))#-->a,b na a va vachi kittu b ah sort pannum b,a na b ah vachi kittu a va sort pannum\n",
    "print(ind)"
   ]
  },
  {
   "cell_type": "code",
   "execution_count": 112,
   "id": "1e558f5e",
   "metadata": {},
   "outputs": [
    {
     "name": "stdout",
     "output_type": "stream",
     "text": [
      "[3 2 1 4 0 5]\n"
     ]
    }
   ],
   "source": [
    "#-->if suppose oru ethula same values eruinthuchuna athuku kelaum same values ah then\n",
    "#eg:ziva two times eruku so namba athuku keza eruka value va pakkanum ziva 33 then ziva 33\n",
    "# so appo ziva oda index position pakkum so zero the five eruku \n",
    "a=(['ziva','renu','ram','geetha','vino','ziva'])\n",
    "b=([33,22,67,89,10,33])\n",
    "ind=np.lexsort((b,a))\n",
    "print(ind)"
   ]
  },
  {
   "cell_type": "markdown",
   "id": "26f07a87",
   "metadata": {},
   "source": [
    "# INDEXING"
   ]
  },
  {
   "cell_type": "code",
   "execution_count": 114,
   "id": "4c3213de",
   "metadata": {},
   "outputs": [
    {
     "name": "stdout",
     "output_type": "stream",
     "text": [
      "2\n"
     ]
    }
   ],
   "source": [
    "a=np.array([3,4,7,2,9,3,1,9,5,3,2,3,99])\n",
    "print(a[10])"
   ]
  },
  {
   "cell_type": "code",
   "execution_count": 116,
   "id": "d6056bfc",
   "metadata": {},
   "outputs": [
    {
     "name": "stdout",
     "output_type": "stream",
     "text": [
      "5\n"
     ]
    }
   ],
   "source": [
    "print(a[10]+a[11])"
   ]
  },
  {
   "cell_type": "markdown",
   "id": "774d4933",
   "metadata": {},
   "source": [
    "# ACCESSSING 2D ARRAY"
   ]
  },
  {
   "cell_type": "code",
   "execution_count": 118,
   "id": "3c1015d5",
   "metadata": {},
   "outputs": [
    {
     "data": {
      "text/plain": [
       "7"
      ]
     },
     "execution_count": 118,
     "metadata": {},
     "output_type": "execute_result"
    }
   ],
   "source": [
    "b=np.array([[3,5,6,7],[3,2,1,5]])\n",
    "b[0,3]"
   ]
  },
  {
   "cell_type": "code",
   "execution_count": 119,
   "id": "e632d9f2",
   "metadata": {},
   "outputs": [
    {
     "data": {
      "text/plain": [
       "1"
      ]
     },
     "execution_count": 119,
     "metadata": {},
     "output_type": "execute_result"
    }
   ],
   "source": [
    "b[1,2]"
   ]
  },
  {
   "cell_type": "markdown",
   "id": "b0e174f9",
   "metadata": {},
   "source": [
    "# ACCESSING 3D ARRAY"
   ]
  },
  {
   "cell_type": "code",
   "execution_count": 125,
   "id": "3e2f0781",
   "metadata": {},
   "outputs": [
    {
     "data": {
      "text/plain": [
       "6"
      ]
     },
     "execution_count": 125,
     "metadata": {},
     "output_type": "execute_result"
    }
   ],
   "source": [
    "arr=np.array([[[2,3,4],[4,3,2]],[[2,4,5],[6,8,9]]])\n",
    "arr[1,1,0]"
   ]
  },
  {
   "cell_type": "code",
   "execution_count": 127,
   "id": "1fbc5283",
   "metadata": {},
   "outputs": [
    {
     "data": {
      "text/plain": [
       "2"
      ]
     },
     "execution_count": 127,
     "metadata": {},
     "output_type": "execute_result"
    }
   ],
   "source": [
    "arr[0,1,2]"
   ]
  },
  {
   "cell_type": "markdown",
   "id": "41b1611a",
   "metadata": {},
   "source": [
    "# WHERE"
   ]
  },
  {
   "cell_type": "code",
   "execution_count": 129,
   "id": "586c3e87",
   "metadata": {},
   "outputs": [
    {
     "name": "stdout",
     "output_type": "stream",
     "text": [
      "(array([1, 3, 4], dtype=int64),)\n"
     ]
    }
   ],
   "source": [
    "obj=np.array([22,33,4,55,66])\n",
    "print(np.where(obj>22))#-->index pos tha return pannum"
   ]
  },
  {
   "cell_type": "markdown",
   "id": "80c68166",
   "metadata": {},
   "source": [
    "# NON ZERO"
   ]
  },
  {
   "cell_type": "code",
   "execution_count": 2,
   "id": "b3ab715f",
   "metadata": {},
   "outputs": [
    {
     "name": "stdout",
     "output_type": "stream",
     "text": [
      "[22 33  4 55 66]\n",
      "(array([0, 1, 2, 3, 4], dtype=int64),)\n"
     ]
    }
   ],
   "source": [
    "import numpy as np\n",
    "obj=np.array([22,33,4,55,66])\n",
    "print(obj)\n",
    "print(obj.nonzero())"
   ]
  },
  {
   "cell_type": "markdown",
   "id": "b8166303",
   "metadata": {},
   "source": [
    "# HIERACHICAL INDEXING"
   ]
  },
  {
   "cell_type": "code",
   "execution_count": 15,
   "id": "037feb96",
   "metadata": {},
   "outputs": [
    {
     "name": "stdout",
     "output_type": "stream",
     "text": [
      "    Unnamed: 0              region                 state  individuals  \\\n",
      "0            0  East South Central               Alabama       2570.0   \n",
      "1            1             Pacific                Alaska       1434.0   \n",
      "2            2            Mountain               Arizona       7259.0   \n",
      "3            3  West South Central              Arkansas       2280.0   \n",
      "4            4             Pacific            California     109008.0   \n",
      "5            5            Mountain              Colorado       7607.0   \n",
      "6            6         New England           Connecticut       2280.0   \n",
      "7            7      South Atlantic              Delaware        708.0   \n",
      "8            8      South Atlantic  District of Columbia       3770.0   \n",
      "9            9      South Atlantic               Florida      21443.0   \n",
      "10          10      South Atlantic               Georgia       6943.0   \n",
      "11          11             Pacific                Hawaii       4131.0   \n",
      "12          12            Mountain                 Idaho       1297.0   \n",
      "13          13  East North Central              Illinois       6752.0   \n",
      "14          14  East North Central               Indiana       3776.0   \n",
      "15          15  West North Central                  Iowa       1711.0   \n",
      "16          16  West North Central                Kansas       1443.0   \n",
      "17          17  East South Central              Kentucky       2735.0   \n",
      "18          18  West South Central             Louisiana       2540.0   \n",
      "19          19         New England                 Maine       1450.0   \n",
      "20          20      South Atlantic              Maryland       4914.0   \n",
      "21          21         New England         Massachusetts       6811.0   \n",
      "22          22  East North Central              Michigan       5209.0   \n",
      "23          23  West North Central             Minnesota       3993.0   \n",
      "24          24  East South Central           Mississippi       1024.0   \n",
      "25          25  West North Central              Missouri       3776.0   \n",
      "26          26            Mountain               Montana        983.0   \n",
      "27          27  West North Central              Nebraska       1745.0   \n",
      "28          28            Mountain                Nevada       7058.0   \n",
      "29          29         New England         New Hampshire        835.0   \n",
      "30          30        Mid-Atlantic            New Jersey       6048.0   \n",
      "31          31            Mountain            New Mexico       1949.0   \n",
      "32          32        Mid-Atlantic              New York      39827.0   \n",
      "33          33      South Atlantic        North Carolina       6451.0   \n",
      "34          34  West North Central          North Dakota        467.0   \n",
      "35          35  East North Central                  Ohio       6929.0   \n",
      "36          36  West South Central              Oklahoma       2823.0   \n",
      "37          37             Pacific                Oregon      11139.0   \n",
      "38          38        Mid-Atlantic          Pennsylvania       8163.0   \n",
      "39          39         New England          Rhode Island        747.0   \n",
      "40          40      South Atlantic        South Carolina       3082.0   \n",
      "41          41  West North Central          South Dakota        836.0   \n",
      "42          42  East South Central             Tennessee       6139.0   \n",
      "43          43  West South Central                 Texas      19199.0   \n",
      "44          44            Mountain                  Utah       1904.0   \n",
      "45          45         New England               Vermont        780.0   \n",
      "46          46      South Atlantic              Virginia       3928.0   \n",
      "47          47             Pacific            Washington      16424.0   \n",
      "48          48      South Atlantic         West Virginia       1021.0   \n",
      "49          49  East North Central             Wisconsin       2740.0   \n",
      "50          50            Mountain               Wyoming        434.0   \n",
      "\n",
      "    family_members  state_pop  \n",
      "0            864.0    4887681  \n",
      "1            582.0     735139  \n",
      "2           2606.0    7158024  \n",
      "3            432.0    3009733  \n",
      "4          20964.0   39461588  \n",
      "5           3250.0    5691287  \n",
      "6           1696.0    3571520  \n",
      "7            374.0     965479  \n",
      "8           3134.0     701547  \n",
      "9           9587.0   21244317  \n",
      "10          2556.0   10511131  \n",
      "11          2399.0    1420593  \n",
      "12           715.0    1750536  \n",
      "13          3891.0   12723071  \n",
      "14          1482.0    6695497  \n",
      "15          1038.0    3148618  \n",
      "16           773.0    2911359  \n",
      "17           953.0    4461153  \n",
      "18           519.0    4659690  \n",
      "19          1066.0    1339057  \n",
      "20          2230.0    6035802  \n",
      "21         13257.0    6882635  \n",
      "22          3142.0    9984072  \n",
      "23          3250.0    5606249  \n",
      "24           328.0    2981020  \n",
      "25          2107.0    6121623  \n",
      "26           422.0    1060665  \n",
      "27           676.0    1925614  \n",
      "28           486.0    3027341  \n",
      "29           615.0    1353465  \n",
      "30          3350.0    8886025  \n",
      "31           602.0    2092741  \n",
      "32         52070.0   19530351  \n",
      "33          2817.0   10381615  \n",
      "34            75.0     758080  \n",
      "35          3320.0   11676341  \n",
      "36          1048.0    3940235  \n",
      "37          3337.0    4181886  \n",
      "38          5349.0   12800922  \n",
      "39           354.0    1058287  \n",
      "40           851.0    5084156  \n",
      "41           323.0     878698  \n",
      "42          1744.0    6771631  \n",
      "43          6111.0   28628666  \n",
      "44           972.0    3153550  \n",
      "45           511.0     624358  \n",
      "46          2047.0    8501286  \n",
      "47          5880.0    7523869  \n",
      "48           222.0    1804291  \n",
      "49          2167.0    5807406  \n",
      "50           205.0     577601  \n"
     ]
    }
   ],
   "source": [
    "import pandas as pd\n",
    "df=pd.read_csv('C:/Users/HP/Downloads/homelessness.csv')\n",
    "print(df) #-->all the  values will display"
   ]
  },
  {
   "cell_type": "code",
   "execution_count": 44,
   "id": "c326c021",
   "metadata": {},
   "outputs": [
    {
     "name": "stdout",
     "output_type": "stream",
     "text": [
      "   Unnamed: 0              region                 state  individuals  \\\n",
      "0           0  East South Central               Alabama       2570.0   \n",
      "1           1             Pacific                Alaska       1434.0   \n",
      "2           2            Mountain               Arizona       7259.0   \n",
      "3           3  West South Central              Arkansas       2280.0   \n",
      "4           4             Pacific            California     109008.0   \n",
      "5           5            Mountain              Colorado       7607.0   \n",
      "6           6         New England           Connecticut       2280.0   \n",
      "7           7      South Atlantic              Delaware        708.0   \n",
      "8           8      South Atlantic  District of Columbia       3770.0   \n",
      "9           9      South Atlantic               Florida      21443.0   \n",
      "\n",
      "   family_members  state_pop  \n",
      "0           864.0    4887681  \n",
      "1           582.0     735139  \n",
      "2          2606.0    7158024  \n",
      "3           432.0    3009733  \n",
      "4         20964.0   39461588  \n",
      "5          3250.0    5691287  \n",
      "6          1696.0    3571520  \n",
      "7           374.0     965479  \n",
      "8          3134.0     701547  \n",
      "9          9587.0   21244317  \n"
     ]
    }
   ],
   "source": [
    "print(df.head(10)#-->if u specify the head it returns if not \n",
    "      # ne specify pannalana just user ku show panna silla columns mattum display pannum4"
   ]
  },
  {
   "cell_type": "code",
   "execution_count": 20,
   "id": "8039a0f6",
   "metadata": {},
   "outputs": [
    {
     "data": {
      "text/plain": [
       "Index(['Unnamed: 0', 'region', 'state', 'individuals', 'family_members',\n",
       "       'state_pop'],\n",
       "      dtype='object')"
      ]
     },
     "execution_count": 20,
     "metadata": {},
     "output_type": "execute_result"
    }
   ],
   "source": [
    "df.columns"
   ]
  },
  {
   "cell_type": "code",
   "execution_count": 45,
   "id": "344ee611",
   "metadata": {
    "scrolled": false
   },
   "outputs": [
    {
     "data": {
      "text/html": [
       "<div>\n",
       "<style scoped>\n",
       "    .dataframe tbody tr th:only-of-type {\n",
       "        vertical-align: middle;\n",
       "    }\n",
       "\n",
       "    .dataframe tbody tr th {\n",
       "        vertical-align: top;\n",
       "    }\n",
       "\n",
       "    .dataframe thead th {\n",
       "        text-align: right;\n",
       "    }\n",
       "</style>\n",
       "<table border=\"1\" class=\"dataframe\">\n",
       "  <thead>\n",
       "    <tr style=\"text-align: right;\">\n",
       "      <th></th>\n",
       "      <th></th>\n",
       "      <th></th>\n",
       "      <th>Unnamed: 0</th>\n",
       "      <th>family_members</th>\n",
       "      <th>state_pop</th>\n",
       "    </tr>\n",
       "    <tr>\n",
       "      <th>region</th>\n",
       "      <th>state</th>\n",
       "      <th>individuals</th>\n",
       "      <th></th>\n",
       "      <th></th>\n",
       "      <th></th>\n",
       "    </tr>\n",
       "  </thead>\n",
       "  <tbody>\n",
       "    <tr>\n",
       "      <th>East South Central</th>\n",
       "      <th>Alabama</th>\n",
       "      <th>2570.0</th>\n",
       "      <td>0</td>\n",
       "      <td>864.0</td>\n",
       "      <td>4887681</td>\n",
       "    </tr>\n",
       "    <tr>\n",
       "      <th>Pacific</th>\n",
       "      <th>Alaska</th>\n",
       "      <th>1434.0</th>\n",
       "      <td>1</td>\n",
       "      <td>582.0</td>\n",
       "      <td>735139</td>\n",
       "    </tr>\n",
       "    <tr>\n",
       "      <th>Mountain</th>\n",
       "      <th>Arizona</th>\n",
       "      <th>7259.0</th>\n",
       "      <td>2</td>\n",
       "      <td>2606.0</td>\n",
       "      <td>7158024</td>\n",
       "    </tr>\n",
       "    <tr>\n",
       "      <th>West South Central</th>\n",
       "      <th>Arkansas</th>\n",
       "      <th>2280.0</th>\n",
       "      <td>3</td>\n",
       "      <td>432.0</td>\n",
       "      <td>3009733</td>\n",
       "    </tr>\n",
       "    <tr>\n",
       "      <th>Pacific</th>\n",
       "      <th>California</th>\n",
       "      <th>109008.0</th>\n",
       "      <td>4</td>\n",
       "      <td>20964.0</td>\n",
       "      <td>39461588</td>\n",
       "    </tr>\n",
       "    <tr>\n",
       "      <th>Mountain</th>\n",
       "      <th>Colorado</th>\n",
       "      <th>7607.0</th>\n",
       "      <td>5</td>\n",
       "      <td>3250.0</td>\n",
       "      <td>5691287</td>\n",
       "    </tr>\n",
       "    <tr>\n",
       "      <th>New England</th>\n",
       "      <th>Connecticut</th>\n",
       "      <th>2280.0</th>\n",
       "      <td>6</td>\n",
       "      <td>1696.0</td>\n",
       "      <td>3571520</td>\n",
       "    </tr>\n",
       "    <tr>\n",
       "      <th rowspan=\"3\" valign=\"top\">South Atlantic</th>\n",
       "      <th>Delaware</th>\n",
       "      <th>708.0</th>\n",
       "      <td>7</td>\n",
       "      <td>374.0</td>\n",
       "      <td>965479</td>\n",
       "    </tr>\n",
       "    <tr>\n",
       "      <th>District of Columbia</th>\n",
       "      <th>3770.0</th>\n",
       "      <td>8</td>\n",
       "      <td>3134.0</td>\n",
       "      <td>701547</td>\n",
       "    </tr>\n",
       "    <tr>\n",
       "      <th>Florida</th>\n",
       "      <th>21443.0</th>\n",
       "      <td>9</td>\n",
       "      <td>9587.0</td>\n",
       "      <td>21244317</td>\n",
       "    </tr>\n",
       "  </tbody>\n",
       "</table>\n",
       "</div>"
      ],
      "text/plain": [
       "                                                     Unnamed: 0  \\\n",
       "region             state                individuals               \n",
       "East South Central Alabama              2570.0                0   \n",
       "Pacific            Alaska               1434.0                1   \n",
       "Mountain           Arizona              7259.0                2   \n",
       "West South Central Arkansas             2280.0                3   \n",
       "Pacific            California           109008.0              4   \n",
       "Mountain           Colorado             7607.0                5   \n",
       "New England        Connecticut          2280.0                6   \n",
       "South Atlantic     Delaware             708.0                 7   \n",
       "                   District of Columbia 3770.0                8   \n",
       "                   Florida              21443.0               9   \n",
       "\n",
       "                                                     family_members  state_pop  \n",
       "region             state                individuals                             \n",
       "East South Central Alabama              2570.0                864.0    4887681  \n",
       "Pacific            Alaska               1434.0                582.0     735139  \n",
       "Mountain           Arizona              7259.0               2606.0    7158024  \n",
       "West South Central Arkansas             2280.0                432.0    3009733  \n",
       "Pacific            California           109008.0            20964.0   39461588  \n",
       "Mountain           Colorado             7607.0               3250.0    5691287  \n",
       "New England        Connecticut          2280.0               1696.0    3571520  \n",
       "South Atlantic     Delaware             708.0                 374.0     965479  \n",
       "                   District of Columbia 3770.0               3134.0     701547  \n",
       "                   Florida              21443.0              9587.0   21244317  "
      ]
     },
     "execution_count": 45,
     "metadata": {},
     "output_type": "execute_result"
    }
   ],
   "source": [
    "df_ind3=df.set_index(['region','state','individuals'])## display wt iam giving first\n",
    "df_ind3.head(10)"
   ]
  },
  {
   "cell_type": "code",
   "execution_count": 46,
   "id": "9315f7e6",
   "metadata": {},
   "outputs": [
    {
     "data": {
      "text/html": [
       "<div>\n",
       "<style scoped>\n",
       "    .dataframe tbody tr th:only-of-type {\n",
       "        vertical-align: middle;\n",
       "    }\n",
       "\n",
       "    .dataframe tbody tr th {\n",
       "        vertical-align: top;\n",
       "    }\n",
       "\n",
       "    .dataframe thead th {\n",
       "        text-align: right;\n",
       "    }\n",
       "</style>\n",
       "<table border=\"1\" class=\"dataframe\">\n",
       "  <thead>\n",
       "    <tr style=\"text-align: right;\">\n",
       "      <th></th>\n",
       "      <th></th>\n",
       "      <th></th>\n",
       "      <th></th>\n",
       "      <th>Unnamed: 0</th>\n",
       "      <th>state_pop</th>\n",
       "    </tr>\n",
       "    <tr>\n",
       "      <th>region</th>\n",
       "      <th>state</th>\n",
       "      <th>individuals</th>\n",
       "      <th>family_members</th>\n",
       "      <th></th>\n",
       "      <th></th>\n",
       "    </tr>\n",
       "  </thead>\n",
       "  <tbody>\n",
       "    <tr>\n",
       "      <th>East South Central</th>\n",
       "      <th>Alabama</th>\n",
       "      <th>2570.0</th>\n",
       "      <th>864.0</th>\n",
       "      <td>0</td>\n",
       "      <td>4887681</td>\n",
       "    </tr>\n",
       "    <tr>\n",
       "      <th>Pacific</th>\n",
       "      <th>Alaska</th>\n",
       "      <th>1434.0</th>\n",
       "      <th>582.0</th>\n",
       "      <td>1</td>\n",
       "      <td>735139</td>\n",
       "    </tr>\n",
       "    <tr>\n",
       "      <th>Mountain</th>\n",
       "      <th>Arizona</th>\n",
       "      <th>7259.0</th>\n",
       "      <th>2606.0</th>\n",
       "      <td>2</td>\n",
       "      <td>7158024</td>\n",
       "    </tr>\n",
       "    <tr>\n",
       "      <th>West South Central</th>\n",
       "      <th>Arkansas</th>\n",
       "      <th>2280.0</th>\n",
       "      <th>432.0</th>\n",
       "      <td>3</td>\n",
       "      <td>3009733</td>\n",
       "    </tr>\n",
       "    <tr>\n",
       "      <th>Pacific</th>\n",
       "      <th>California</th>\n",
       "      <th>109008.0</th>\n",
       "      <th>20964.0</th>\n",
       "      <td>4</td>\n",
       "      <td>39461588</td>\n",
       "    </tr>\n",
       "    <tr>\n",
       "      <th>Mountain</th>\n",
       "      <th>Colorado</th>\n",
       "      <th>7607.0</th>\n",
       "      <th>3250.0</th>\n",
       "      <td>5</td>\n",
       "      <td>5691287</td>\n",
       "    </tr>\n",
       "    <tr>\n",
       "      <th>New England</th>\n",
       "      <th>Connecticut</th>\n",
       "      <th>2280.0</th>\n",
       "      <th>1696.0</th>\n",
       "      <td>6</td>\n",
       "      <td>3571520</td>\n",
       "    </tr>\n",
       "    <tr>\n",
       "      <th rowspan=\"3\" valign=\"top\">South Atlantic</th>\n",
       "      <th>Delaware</th>\n",
       "      <th>708.0</th>\n",
       "      <th>374.0</th>\n",
       "      <td>7</td>\n",
       "      <td>965479</td>\n",
       "    </tr>\n",
       "    <tr>\n",
       "      <th>District of Columbia</th>\n",
       "      <th>3770.0</th>\n",
       "      <th>3134.0</th>\n",
       "      <td>8</td>\n",
       "      <td>701547</td>\n",
       "    </tr>\n",
       "    <tr>\n",
       "      <th>Florida</th>\n",
       "      <th>21443.0</th>\n",
       "      <th>9587.0</th>\n",
       "      <td>9</td>\n",
       "      <td>21244317</td>\n",
       "    </tr>\n",
       "  </tbody>\n",
       "</table>\n",
       "</div>"
      ],
      "text/plain": [
       "                                                                    Unnamed: 0  \\\n",
       "region             state                individuals family_members               \n",
       "East South Central Alabama              2570.0      864.0                    0   \n",
       "Pacific            Alaska               1434.0      582.0                    1   \n",
       "Mountain           Arizona              7259.0      2606.0                   2   \n",
       "West South Central Arkansas             2280.0      432.0                    3   \n",
       "Pacific            California           109008.0    20964.0                  4   \n",
       "Mountain           Colorado             7607.0      3250.0                   5   \n",
       "New England        Connecticut          2280.0      1696.0                   6   \n",
       "South Atlantic     Delaware             708.0       374.0                    7   \n",
       "                   District of Columbia 3770.0      3134.0                   8   \n",
       "                   Florida              21443.0     9587.0                   9   \n",
       "\n",
       "                                                                    state_pop  \n",
       "region             state                individuals family_members             \n",
       "East South Central Alabama              2570.0      864.0             4887681  \n",
       "Pacific            Alaska               1434.0      582.0              735139  \n",
       "Mountain           Arizona              7259.0      2606.0            7158024  \n",
       "West South Central Arkansas             2280.0      432.0             3009733  \n",
       "Pacific            California           109008.0    20964.0          39461588  \n",
       "Mountain           Colorado             7607.0      3250.0            5691287  \n",
       "New England        Connecticut          2280.0      1696.0            3571520  \n",
       "South Atlantic     Delaware             708.0       374.0              965479  \n",
       "                   District of Columbia 3770.0      3134.0             701547  \n",
       "                   Florida              21443.0     9587.0           21244317  "
      ]
     },
     "execution_count": 46,
     "metadata": {},
     "output_type": "execute_result"
    }
   ],
   "source": [
    "df_ind3=df.set_index(['region','state','individuals','family_members'])## display wt iam giving first\n",
    "df_ind3.head(10)"
   ]
  },
  {
   "cell_type": "code",
   "execution_count": 37,
   "id": "af08afef",
   "metadata": {},
   "outputs": [
    {
     "data": {
      "text/html": [
       "<div>\n",
       "<style scoped>\n",
       "    .dataframe tbody tr th:only-of-type {\n",
       "        vertical-align: middle;\n",
       "    }\n",
       "\n",
       "    .dataframe tbody tr th {\n",
       "        vertical-align: top;\n",
       "    }\n",
       "\n",
       "    .dataframe thead th {\n",
       "        text-align: right;\n",
       "    }\n",
       "</style>\n",
       "<table border=\"1\" class=\"dataframe\">\n",
       "  <thead>\n",
       "    <tr style=\"text-align: right;\">\n",
       "      <th></th>\n",
       "      <th></th>\n",
       "      <th></th>\n",
       "      <th>Unnamed: 0</th>\n",
       "      <th>family_members</th>\n",
       "      <th>state_pop</th>\n",
       "    </tr>\n",
       "    <tr>\n",
       "      <th>region</th>\n",
       "      <th>state</th>\n",
       "      <th>individuals</th>\n",
       "      <th></th>\n",
       "      <th></th>\n",
       "      <th></th>\n",
       "    </tr>\n",
       "  </thead>\n",
       "  <tbody>\n",
       "    <tr>\n",
       "      <th rowspan=\"5\" valign=\"top\">Pacific</th>\n",
       "      <th>Alaska</th>\n",
       "      <th>1434.0</th>\n",
       "      <td>1</td>\n",
       "      <td>582.0</td>\n",
       "      <td>735139</td>\n",
       "    </tr>\n",
       "    <tr>\n",
       "      <th>California</th>\n",
       "      <th>109008.0</th>\n",
       "      <td>4</td>\n",
       "      <td>20964.0</td>\n",
       "      <td>39461588</td>\n",
       "    </tr>\n",
       "    <tr>\n",
       "      <th>Hawaii</th>\n",
       "      <th>4131.0</th>\n",
       "      <td>11</td>\n",
       "      <td>2399.0</td>\n",
       "      <td>1420593</td>\n",
       "    </tr>\n",
       "    <tr>\n",
       "      <th>Oregon</th>\n",
       "      <th>11139.0</th>\n",
       "      <td>37</td>\n",
       "      <td>3337.0</td>\n",
       "      <td>4181886</td>\n",
       "    </tr>\n",
       "    <tr>\n",
       "      <th>Washington</th>\n",
       "      <th>16424.0</th>\n",
       "      <td>47</td>\n",
       "      <td>5880.0</td>\n",
       "      <td>7523869</td>\n",
       "    </tr>\n",
       "    <tr>\n",
       "      <th rowspan=\"8\" valign=\"top\">Mountain</th>\n",
       "      <th>Arizona</th>\n",
       "      <th>7259.0</th>\n",
       "      <td>2</td>\n",
       "      <td>2606.0</td>\n",
       "      <td>7158024</td>\n",
       "    </tr>\n",
       "    <tr>\n",
       "      <th>Colorado</th>\n",
       "      <th>7607.0</th>\n",
       "      <td>5</td>\n",
       "      <td>3250.0</td>\n",
       "      <td>5691287</td>\n",
       "    </tr>\n",
       "    <tr>\n",
       "      <th>Idaho</th>\n",
       "      <th>1297.0</th>\n",
       "      <td>12</td>\n",
       "      <td>715.0</td>\n",
       "      <td>1750536</td>\n",
       "    </tr>\n",
       "    <tr>\n",
       "      <th>Montana</th>\n",
       "      <th>983.0</th>\n",
       "      <td>26</td>\n",
       "      <td>422.0</td>\n",
       "      <td>1060665</td>\n",
       "    </tr>\n",
       "    <tr>\n",
       "      <th>Nevada</th>\n",
       "      <th>7058.0</th>\n",
       "      <td>28</td>\n",
       "      <td>486.0</td>\n",
       "      <td>3027341</td>\n",
       "    </tr>\n",
       "    <tr>\n",
       "      <th>New Mexico</th>\n",
       "      <th>1949.0</th>\n",
       "      <td>31</td>\n",
       "      <td>602.0</td>\n",
       "      <td>2092741</td>\n",
       "    </tr>\n",
       "    <tr>\n",
       "      <th>Utah</th>\n",
       "      <th>1904.0</th>\n",
       "      <td>44</td>\n",
       "      <td>972.0</td>\n",
       "      <td>3153550</td>\n",
       "    </tr>\n",
       "    <tr>\n",
       "      <th>Wyoming</th>\n",
       "      <th>434.0</th>\n",
       "      <td>50</td>\n",
       "      <td>205.0</td>\n",
       "      <td>577601</td>\n",
       "    </tr>\n",
       "  </tbody>\n",
       "</table>\n",
       "</div>"
      ],
      "text/plain": [
       "                                 Unnamed: 0  family_members  state_pop\n",
       "region   state      individuals                                       \n",
       "Pacific  Alaska     1434.0                1           582.0     735139\n",
       "         California 109008.0              4         20964.0   39461588\n",
       "         Hawaii     4131.0               11          2399.0    1420593\n",
       "         Oregon     11139.0              37          3337.0    4181886\n",
       "         Washington 16424.0              47          5880.0    7523869\n",
       "Mountain Arizona    7259.0                2          2606.0    7158024\n",
       "         Colorado   7607.0                5          3250.0    5691287\n",
       "         Idaho      1297.0               12           715.0    1750536\n",
       "         Montana    983.0                26           422.0    1060665\n",
       "         Nevada     7058.0               28           486.0    3027341\n",
       "         New Mexico 1949.0               31           602.0    2092741\n",
       "         Utah       1904.0               44           972.0    3153550\n",
       "         Wyoming    434.0                50           205.0     577601"
      ]
     },
     "execution_count": 37,
     "metadata": {},
     "output_type": "execute_result"
    }
   ],
   "source": [
    "df_ind3_region=df_ind3.loc[['Pacific','Mountain']]\n",
    "df_ind3_region"
   ]
  },
  {
   "cell_type": "code",
   "execution_count": 48,
   "id": "cc60d09e",
   "metadata": {},
   "outputs": [
    {
     "data": {
      "text/html": [
       "<div>\n",
       "<style scoped>\n",
       "    .dataframe tbody tr th:only-of-type {\n",
       "        vertical-align: middle;\n",
       "    }\n",
       "\n",
       "    .dataframe tbody tr th {\n",
       "        vertical-align: top;\n",
       "    }\n",
       "\n",
       "    .dataframe thead th {\n",
       "        text-align: right;\n",
       "    }\n",
       "</style>\n",
       "<table border=\"1\" class=\"dataframe\">\n",
       "  <thead>\n",
       "    <tr style=\"text-align: right;\">\n",
       "      <th></th>\n",
       "      <th></th>\n",
       "      <th></th>\n",
       "      <th></th>\n",
       "      <th>Unnamed: 0</th>\n",
       "      <th>state_pop</th>\n",
       "    </tr>\n",
       "    <tr>\n",
       "      <th>region</th>\n",
       "      <th>state</th>\n",
       "      <th>individuals</th>\n",
       "      <th>family_members</th>\n",
       "      <th></th>\n",
       "      <th></th>\n",
       "    </tr>\n",
       "  </thead>\n",
       "  <tbody>\n",
       "    <tr>\n",
       "      <th>Pacific</th>\n",
       "      <th>Alaska</th>\n",
       "      <th>1434.0</th>\n",
       "      <th>582.0</th>\n",
       "      <td>1</td>\n",
       "      <td>735139</td>\n",
       "    </tr>\n",
       "    <tr>\n",
       "      <th>Mountain</th>\n",
       "      <th>Idaho</th>\n",
       "      <th>1297.0</th>\n",
       "      <th>715.0</th>\n",
       "      <td>12</td>\n",
       "      <td>1750536</td>\n",
       "    </tr>\n",
       "  </tbody>\n",
       "</table>\n",
       "</div>"
      ],
      "text/plain": [
       "                                            Unnamed: 0  state_pop\n",
       "region   state  individuals family_members                       \n",
       "Pacific  Alaska 1434.0      582.0                    1     735139\n",
       "Mountain Idaho  1297.0      715.0                   12    1750536"
      ]
     },
     "execution_count": 48,
     "metadata": {},
     "output_type": "execute_result"
    }
   ],
   "source": [
    "df_ind3_region_state=df_ind3.loc[[(\"Pacific\",\"Alaska\",1434,582.0),\n",
    "                                  (\"Mountain\",\"Idaho\",1297,715.0)]]\n",
    "df_ind3_region_state"
   ]
  },
  {
   "cell_type": "code",
   "execution_count": 38,
   "id": "baf21b5c",
   "metadata": {
    "scrolled": false
   },
   "outputs": [
    {
     "data": {
      "text/html": [
       "<div>\n",
       "<style scoped>\n",
       "    .dataframe tbody tr th:only-of-type {\n",
       "        vertical-align: middle;\n",
       "    }\n",
       "\n",
       "    .dataframe tbody tr th {\n",
       "        vertical-align: top;\n",
       "    }\n",
       "\n",
       "    .dataframe thead th {\n",
       "        text-align: right;\n",
       "    }\n",
       "</style>\n",
       "<table border=\"1\" class=\"dataframe\">\n",
       "  <thead>\n",
       "    <tr style=\"text-align: right;\">\n",
       "      <th></th>\n",
       "      <th></th>\n",
       "      <th></th>\n",
       "      <th>Unnamed: 0</th>\n",
       "      <th>family_members</th>\n",
       "      <th>state_pop</th>\n",
       "    </tr>\n",
       "    <tr>\n",
       "      <th>region</th>\n",
       "      <th>state</th>\n",
       "      <th>individuals</th>\n",
       "      <th></th>\n",
       "      <th></th>\n",
       "      <th></th>\n",
       "    </tr>\n",
       "  </thead>\n",
       "  <tbody>\n",
       "    <tr>\n",
       "      <th>Pacific</th>\n",
       "      <th>Alaska</th>\n",
       "      <th>1434.0</th>\n",
       "      <td>1</td>\n",
       "      <td>582.0</td>\n",
       "      <td>735139</td>\n",
       "    </tr>\n",
       "    <tr>\n",
       "      <th>Mountain</th>\n",
       "      <th>Idaho</th>\n",
       "      <th>1297.0</th>\n",
       "      <td>12</td>\n",
       "      <td>715.0</td>\n",
       "      <td>1750536</td>\n",
       "    </tr>\n",
       "  </tbody>\n",
       "</table>\n",
       "</div>"
      ],
      "text/plain": [
       "                             Unnamed: 0  family_members  state_pop\n",
       "region   state  individuals                                       \n",
       "Pacific  Alaska 1434.0                1           582.0     735139\n",
       "Mountain Idaho  1297.0               12           715.0    1750536"
      ]
     },
     "execution_count": 38,
     "metadata": {},
     "output_type": "execute_result"
    }
   ],
   "source": [
    "df_ind3_region_state=df_ind3.loc[[(\"Pacific\",\"Alaska\",1434),\n",
    "                                  (\"Mountain\",\"Idaho\",1297)]]\n",
    "df_ind3_region_state"
   ]
  },
  {
   "cell_type": "code",
   "execution_count": 40,
   "id": "8598c01f",
   "metadata": {},
   "outputs": [
    {
     "data": {
      "text/plain": [
       "Unnamed: 0                     7\n",
       "region            South Atlantic\n",
       "state                   Delaware\n",
       "individuals                708.0\n",
       "family_members             374.0\n",
       "state_pop                 965479\n",
       "Name: 7, dtype: object"
      ]
     },
     "execution_count": 40,
     "metadata": {},
     "output_type": "execute_result"
    }
   ],
   "source": [
    "df.iloc[7] # returns the both the rows and columns with the index"
   ]
  },
  {
   "cell_type": "code",
   "execution_count": 41,
   "id": "2a9aa915",
   "metadata": {
    "scrolled": true
   },
   "outputs": [
    {
     "data": {
      "text/html": [
       "<div>\n",
       "<style scoped>\n",
       "    .dataframe tbody tr th:only-of-type {\n",
       "        vertical-align: middle;\n",
       "    }\n",
       "\n",
       "    .dataframe tbody tr th {\n",
       "        vertical-align: top;\n",
       "    }\n",
       "\n",
       "    .dataframe thead th {\n",
       "        text-align: right;\n",
       "    }\n",
       "</style>\n",
       "<table border=\"1\" class=\"dataframe\">\n",
       "  <thead>\n",
       "    <tr style=\"text-align: right;\">\n",
       "      <th></th>\n",
       "      <th>Unnamed: 0</th>\n",
       "      <th>region</th>\n",
       "    </tr>\n",
       "  </thead>\n",
       "  <tbody>\n",
       "    <tr>\n",
       "      <th>0</th>\n",
       "      <td>0</td>\n",
       "      <td>East South Central</td>\n",
       "    </tr>\n",
       "    <tr>\n",
       "      <th>2</th>\n",
       "      <td>2</td>\n",
       "      <td>Mountain</td>\n",
       "    </tr>\n",
       "  </tbody>\n",
       "</table>\n",
       "</div>"
      ],
      "text/plain": [
       "   Unnamed: 0              region\n",
       "0           0  East South Central\n",
       "2           2            Mountain"
      ]
     },
     "execution_count": 41,
     "metadata": {},
     "output_type": "execute_result"
    }
   ],
   "source": [
    "df.iloc[[0,2],[0,1]]"
   ]
  },
  {
   "cell_type": "code",
   "execution_count": 42,
   "id": "90556c77",
   "metadata": {},
   "outputs": [
    {
     "data": {
      "text/plain": [
       "Unnamed: 0                         3\n",
       "region            West South Central\n",
       "state                       Arkansas\n",
       "individuals                   2280.0\n",
       "family_members                 432.0\n",
       "state_pop                    3009733\n",
       "Name: 3, dtype: object"
      ]
     },
     "execution_count": 42,
     "metadata": {},
     "output_type": "execute_result"
    }
   ],
   "source": [
    "df.iloc[3]"
   ]
  },
  {
   "cell_type": "code",
   "execution_count": 55,
   "id": "2ad3978d",
   "metadata": {},
   "outputs": [
    {
     "data": {
      "text/html": [
       "<div>\n",
       "<style scoped>\n",
       "    .dataframe tbody tr th:only-of-type {\n",
       "        vertical-align: middle;\n",
       "    }\n",
       "\n",
       "    .dataframe tbody tr th {\n",
       "        vertical-align: top;\n",
       "    }\n",
       "\n",
       "    .dataframe thead th {\n",
       "        text-align: right;\n",
       "    }\n",
       "</style>\n",
       "<table border=\"1\" class=\"dataframe\">\n",
       "  <thead>\n",
       "    <tr style=\"text-align: right;\">\n",
       "      <th></th>\n",
       "      <th>Unnamed: 0</th>\n",
       "      <th>region</th>\n",
       "      <th>state</th>\n",
       "      <th>individuals</th>\n",
       "      <th>family_members</th>\n",
       "      <th>state_pop</th>\n",
       "    </tr>\n",
       "  </thead>\n",
       "  <tbody>\n",
       "    <tr>\n",
       "      <th>0</th>\n",
       "      <td>0</td>\n",
       "      <td>East South Central</td>\n",
       "      <td>Alabama</td>\n",
       "      <td>2570.0</td>\n",
       "      <td>864.0</td>\n",
       "      <td>4887681</td>\n",
       "    </tr>\n",
       "    <tr>\n",
       "      <th>9</th>\n",
       "      <td>9</td>\n",
       "      <td>South Atlantic</td>\n",
       "      <td>Florida</td>\n",
       "      <td>21443.0</td>\n",
       "      <td>9587.0</td>\n",
       "      <td>21244317</td>\n",
       "    </tr>\n",
       "    <tr>\n",
       "      <th>7</th>\n",
       "      <td>7</td>\n",
       "      <td>South Atlantic</td>\n",
       "      <td>Delaware</td>\n",
       "      <td>708.0</td>\n",
       "      <td>374.0</td>\n",
       "      <td>965479</td>\n",
       "    </tr>\n",
       "    <tr>\n",
       "      <th>1</th>\n",
       "      <td>1</td>\n",
       "      <td>Pacific</td>\n",
       "      <td>Alaska</td>\n",
       "      <td>1434.0</td>\n",
       "      <td>582.0</td>\n",
       "      <td>735139</td>\n",
       "    </tr>\n",
       "    <tr>\n",
       "      <th>2</th>\n",
       "      <td>2</td>\n",
       "      <td>Mountain</td>\n",
       "      <td>Arizona</td>\n",
       "      <td>7259.0</td>\n",
       "      <td>2606.0</td>\n",
       "      <td>7158024</td>\n",
       "    </tr>\n",
       "    <tr>\n",
       "      <th>3</th>\n",
       "      <td>3</td>\n",
       "      <td>West South Central</td>\n",
       "      <td>Arkansas</td>\n",
       "      <td>2280.0</td>\n",
       "      <td>432.0</td>\n",
       "      <td>3009733</td>\n",
       "    </tr>\n",
       "    <tr>\n",
       "      <th>4</th>\n",
       "      <td>4</td>\n",
       "      <td>Pacific</td>\n",
       "      <td>California</td>\n",
       "      <td>109008.0</td>\n",
       "      <td>20964.0</td>\n",
       "      <td>39461588</td>\n",
       "    </tr>\n",
       "  </tbody>\n",
       "</table>\n",
       "</div>"
      ],
      "text/plain": [
       "   Unnamed: 0              region       state  individuals  family_members  \\\n",
       "0           0  East South Central     Alabama       2570.0           864.0   \n",
       "9           9      South Atlantic     Florida      21443.0          9587.0   \n",
       "7           7      South Atlantic    Delaware        708.0           374.0   \n",
       "1           1             Pacific      Alaska       1434.0           582.0   \n",
       "2           2            Mountain     Arizona       7259.0          2606.0   \n",
       "3           3  West South Central    Arkansas       2280.0           432.0   \n",
       "4           4             Pacific  California     109008.0         20964.0   \n",
       "\n",
       "   state_pop  \n",
       "0    4887681  \n",
       "9   21244317  \n",
       "7     965479  \n",
       "1     735139  \n",
       "2    7158024  \n",
       "3    3009733  \n",
       "4   39461588  "
      ]
     },
     "execution_count": 55,
     "metadata": {},
     "output_type": "execute_result"
    }
   ],
   "source": [
    "df.iloc[[0,9,7,1,2,3,4]]"
   ]
  },
  {
   "cell_type": "markdown",
   "id": "b692df9f",
   "metadata": {},
   "source": [
    "# PIVOT TABLE"
   ]
  },
  {
   "cell_type": "code",
   "execution_count": null,
   "id": "6afcfb76",
   "metadata": {},
   "outputs": [],
   "source": [
    "import numpy as np\n",
    "import pandas as pd\n",
    "import seaborn as sns #--> seaborn is just a visualization tool\n",
    "titanic = sns.load_dataset('titanic')\n",
    "titanic"
   ]
  },
  {
   "cell_type": "code",
   "execution_count": 58,
   "id": "0a9e6091",
   "metadata": {},
   "outputs": [
    {
     "ename": "FileNotFoundError",
     "evalue": "[Errno 2] No such file or directory: 'C:/Users/HP/Desktop/first year/TITANIC DATA/titanic dataset.csv'",
     "output_type": "error",
     "traceback": [
      "\u001b[1;31m---------------------------------------------------------------------------\u001b[0m",
      "\u001b[1;31mFileNotFoundError\u001b[0m                         Traceback (most recent call last)",
      "Cell \u001b[1;32mIn[58], line 1\u001b[0m\n\u001b[1;32m----> 1\u001b[0m x\u001b[38;5;241m=\u001b[39m\u001b[43mpd\u001b[49m\u001b[38;5;241;43m.\u001b[39;49m\u001b[43mread_csv\u001b[49m\u001b[43m(\u001b[49m\u001b[38;5;124;43m'\u001b[39;49m\u001b[38;5;124;43mC:/Users/HP/Desktop/first year/TITANIC DATA/titanic dataset.csv\u001b[39;49m\u001b[38;5;124;43m'\u001b[39;49m\u001b[43m)\u001b[49m\n\u001b[0;32m      2\u001b[0m x\n",
      "File \u001b[1;32m~\\anaconda3\\lib\\site-packages\\pandas\\util\\_decorators.py:211\u001b[0m, in \u001b[0;36mdeprecate_kwarg.<locals>._deprecate_kwarg.<locals>.wrapper\u001b[1;34m(*args, **kwargs)\u001b[0m\n\u001b[0;32m    209\u001b[0m     \u001b[38;5;28;01melse\u001b[39;00m:\n\u001b[0;32m    210\u001b[0m         kwargs[new_arg_name] \u001b[38;5;241m=\u001b[39m new_arg_value\n\u001b[1;32m--> 211\u001b[0m \u001b[38;5;28;01mreturn\u001b[39;00m func(\u001b[38;5;241m*\u001b[39margs, \u001b[38;5;241m*\u001b[39m\u001b[38;5;241m*\u001b[39mkwargs)\n",
      "File \u001b[1;32m~\\anaconda3\\lib\\site-packages\\pandas\\util\\_decorators.py:331\u001b[0m, in \u001b[0;36mdeprecate_nonkeyword_arguments.<locals>.decorate.<locals>.wrapper\u001b[1;34m(*args, **kwargs)\u001b[0m\n\u001b[0;32m    325\u001b[0m \u001b[38;5;28;01mif\u001b[39;00m \u001b[38;5;28mlen\u001b[39m(args) \u001b[38;5;241m>\u001b[39m num_allow_args:\n\u001b[0;32m    326\u001b[0m     warnings\u001b[38;5;241m.\u001b[39mwarn(\n\u001b[0;32m    327\u001b[0m         msg\u001b[38;5;241m.\u001b[39mformat(arguments\u001b[38;5;241m=\u001b[39m_format_argument_list(allow_args)),\n\u001b[0;32m    328\u001b[0m         \u001b[38;5;167;01mFutureWarning\u001b[39;00m,\n\u001b[0;32m    329\u001b[0m         stacklevel\u001b[38;5;241m=\u001b[39mfind_stack_level(),\n\u001b[0;32m    330\u001b[0m     )\n\u001b[1;32m--> 331\u001b[0m \u001b[38;5;28;01mreturn\u001b[39;00m func(\u001b[38;5;241m*\u001b[39margs, \u001b[38;5;241m*\u001b[39m\u001b[38;5;241m*\u001b[39mkwargs)\n",
      "File \u001b[1;32m~\\anaconda3\\lib\\site-packages\\pandas\\io\\parsers\\readers.py:950\u001b[0m, in \u001b[0;36mread_csv\u001b[1;34m(filepath_or_buffer, sep, delimiter, header, names, index_col, usecols, squeeze, prefix, mangle_dupe_cols, dtype, engine, converters, true_values, false_values, skipinitialspace, skiprows, skipfooter, nrows, na_values, keep_default_na, na_filter, verbose, skip_blank_lines, parse_dates, infer_datetime_format, keep_date_col, date_parser, dayfirst, cache_dates, iterator, chunksize, compression, thousands, decimal, lineterminator, quotechar, quoting, doublequote, escapechar, comment, encoding, encoding_errors, dialect, error_bad_lines, warn_bad_lines, on_bad_lines, delim_whitespace, low_memory, memory_map, float_precision, storage_options)\u001b[0m\n\u001b[0;32m    935\u001b[0m kwds_defaults \u001b[38;5;241m=\u001b[39m _refine_defaults_read(\n\u001b[0;32m    936\u001b[0m     dialect,\n\u001b[0;32m    937\u001b[0m     delimiter,\n\u001b[1;32m   (...)\u001b[0m\n\u001b[0;32m    946\u001b[0m     defaults\u001b[38;5;241m=\u001b[39m{\u001b[38;5;124m\"\u001b[39m\u001b[38;5;124mdelimiter\u001b[39m\u001b[38;5;124m\"\u001b[39m: \u001b[38;5;124m\"\u001b[39m\u001b[38;5;124m,\u001b[39m\u001b[38;5;124m\"\u001b[39m},\n\u001b[0;32m    947\u001b[0m )\n\u001b[0;32m    948\u001b[0m kwds\u001b[38;5;241m.\u001b[39mupdate(kwds_defaults)\n\u001b[1;32m--> 950\u001b[0m \u001b[38;5;28;01mreturn\u001b[39;00m \u001b[43m_read\u001b[49m\u001b[43m(\u001b[49m\u001b[43mfilepath_or_buffer\u001b[49m\u001b[43m,\u001b[49m\u001b[43m \u001b[49m\u001b[43mkwds\u001b[49m\u001b[43m)\u001b[49m\n",
      "File \u001b[1;32m~\\anaconda3\\lib\\site-packages\\pandas\\io\\parsers\\readers.py:605\u001b[0m, in \u001b[0;36m_read\u001b[1;34m(filepath_or_buffer, kwds)\u001b[0m\n\u001b[0;32m    602\u001b[0m _validate_names(kwds\u001b[38;5;241m.\u001b[39mget(\u001b[38;5;124m\"\u001b[39m\u001b[38;5;124mnames\u001b[39m\u001b[38;5;124m\"\u001b[39m, \u001b[38;5;28;01mNone\u001b[39;00m))\n\u001b[0;32m    604\u001b[0m \u001b[38;5;66;03m# Create the parser.\u001b[39;00m\n\u001b[1;32m--> 605\u001b[0m parser \u001b[38;5;241m=\u001b[39m TextFileReader(filepath_or_buffer, \u001b[38;5;241m*\u001b[39m\u001b[38;5;241m*\u001b[39mkwds)\n\u001b[0;32m    607\u001b[0m \u001b[38;5;28;01mif\u001b[39;00m chunksize \u001b[38;5;129;01mor\u001b[39;00m iterator:\n\u001b[0;32m    608\u001b[0m     \u001b[38;5;28;01mreturn\u001b[39;00m parser\n",
      "File \u001b[1;32m~\\anaconda3\\lib\\site-packages\\pandas\\io\\parsers\\readers.py:1442\u001b[0m, in \u001b[0;36mTextFileReader.__init__\u001b[1;34m(self, f, engine, **kwds)\u001b[0m\n\u001b[0;32m   1439\u001b[0m     \u001b[38;5;28mself\u001b[39m\u001b[38;5;241m.\u001b[39moptions[\u001b[38;5;124m\"\u001b[39m\u001b[38;5;124mhas_index_names\u001b[39m\u001b[38;5;124m\"\u001b[39m] \u001b[38;5;241m=\u001b[39m kwds[\u001b[38;5;124m\"\u001b[39m\u001b[38;5;124mhas_index_names\u001b[39m\u001b[38;5;124m\"\u001b[39m]\n\u001b[0;32m   1441\u001b[0m \u001b[38;5;28mself\u001b[39m\u001b[38;5;241m.\u001b[39mhandles: IOHandles \u001b[38;5;241m|\u001b[39m \u001b[38;5;28;01mNone\u001b[39;00m \u001b[38;5;241m=\u001b[39m \u001b[38;5;28;01mNone\u001b[39;00m\n\u001b[1;32m-> 1442\u001b[0m \u001b[38;5;28mself\u001b[39m\u001b[38;5;241m.\u001b[39m_engine \u001b[38;5;241m=\u001b[39m \u001b[38;5;28;43mself\u001b[39;49m\u001b[38;5;241;43m.\u001b[39;49m\u001b[43m_make_engine\u001b[49m\u001b[43m(\u001b[49m\u001b[43mf\u001b[49m\u001b[43m,\u001b[49m\u001b[43m \u001b[49m\u001b[38;5;28;43mself\u001b[39;49m\u001b[38;5;241;43m.\u001b[39;49m\u001b[43mengine\u001b[49m\u001b[43m)\u001b[49m\n",
      "File \u001b[1;32m~\\anaconda3\\lib\\site-packages\\pandas\\io\\parsers\\readers.py:1735\u001b[0m, in \u001b[0;36mTextFileReader._make_engine\u001b[1;34m(self, f, engine)\u001b[0m\n\u001b[0;32m   1733\u001b[0m     \u001b[38;5;28;01mif\u001b[39;00m \u001b[38;5;124m\"\u001b[39m\u001b[38;5;124mb\u001b[39m\u001b[38;5;124m\"\u001b[39m \u001b[38;5;129;01mnot\u001b[39;00m \u001b[38;5;129;01min\u001b[39;00m mode:\n\u001b[0;32m   1734\u001b[0m         mode \u001b[38;5;241m+\u001b[39m\u001b[38;5;241m=\u001b[39m \u001b[38;5;124m\"\u001b[39m\u001b[38;5;124mb\u001b[39m\u001b[38;5;124m\"\u001b[39m\n\u001b[1;32m-> 1735\u001b[0m \u001b[38;5;28mself\u001b[39m\u001b[38;5;241m.\u001b[39mhandles \u001b[38;5;241m=\u001b[39m \u001b[43mget_handle\u001b[49m\u001b[43m(\u001b[49m\n\u001b[0;32m   1736\u001b[0m \u001b[43m    \u001b[49m\u001b[43mf\u001b[49m\u001b[43m,\u001b[49m\n\u001b[0;32m   1737\u001b[0m \u001b[43m    \u001b[49m\u001b[43mmode\u001b[49m\u001b[43m,\u001b[49m\n\u001b[0;32m   1738\u001b[0m \u001b[43m    \u001b[49m\u001b[43mencoding\u001b[49m\u001b[38;5;241;43m=\u001b[39;49m\u001b[38;5;28;43mself\u001b[39;49m\u001b[38;5;241;43m.\u001b[39;49m\u001b[43moptions\u001b[49m\u001b[38;5;241;43m.\u001b[39;49m\u001b[43mget\u001b[49m\u001b[43m(\u001b[49m\u001b[38;5;124;43m\"\u001b[39;49m\u001b[38;5;124;43mencoding\u001b[39;49m\u001b[38;5;124;43m\"\u001b[39;49m\u001b[43m,\u001b[49m\u001b[43m \u001b[49m\u001b[38;5;28;43;01mNone\u001b[39;49;00m\u001b[43m)\u001b[49m\u001b[43m,\u001b[49m\n\u001b[0;32m   1739\u001b[0m \u001b[43m    \u001b[49m\u001b[43mcompression\u001b[49m\u001b[38;5;241;43m=\u001b[39;49m\u001b[38;5;28;43mself\u001b[39;49m\u001b[38;5;241;43m.\u001b[39;49m\u001b[43moptions\u001b[49m\u001b[38;5;241;43m.\u001b[39;49m\u001b[43mget\u001b[49m\u001b[43m(\u001b[49m\u001b[38;5;124;43m\"\u001b[39;49m\u001b[38;5;124;43mcompression\u001b[39;49m\u001b[38;5;124;43m\"\u001b[39;49m\u001b[43m,\u001b[49m\u001b[43m \u001b[49m\u001b[38;5;28;43;01mNone\u001b[39;49;00m\u001b[43m)\u001b[49m\u001b[43m,\u001b[49m\n\u001b[0;32m   1740\u001b[0m \u001b[43m    \u001b[49m\u001b[43mmemory_map\u001b[49m\u001b[38;5;241;43m=\u001b[39;49m\u001b[38;5;28;43mself\u001b[39;49m\u001b[38;5;241;43m.\u001b[39;49m\u001b[43moptions\u001b[49m\u001b[38;5;241;43m.\u001b[39;49m\u001b[43mget\u001b[49m\u001b[43m(\u001b[49m\u001b[38;5;124;43m\"\u001b[39;49m\u001b[38;5;124;43mmemory_map\u001b[39;49m\u001b[38;5;124;43m\"\u001b[39;49m\u001b[43m,\u001b[49m\u001b[43m \u001b[49m\u001b[38;5;28;43;01mFalse\u001b[39;49;00m\u001b[43m)\u001b[49m\u001b[43m,\u001b[49m\n\u001b[0;32m   1741\u001b[0m \u001b[43m    \u001b[49m\u001b[43mis_text\u001b[49m\u001b[38;5;241;43m=\u001b[39;49m\u001b[43mis_text\u001b[49m\u001b[43m,\u001b[49m\n\u001b[0;32m   1742\u001b[0m \u001b[43m    \u001b[49m\u001b[43merrors\u001b[49m\u001b[38;5;241;43m=\u001b[39;49m\u001b[38;5;28;43mself\u001b[39;49m\u001b[38;5;241;43m.\u001b[39;49m\u001b[43moptions\u001b[49m\u001b[38;5;241;43m.\u001b[39;49m\u001b[43mget\u001b[49m\u001b[43m(\u001b[49m\u001b[38;5;124;43m\"\u001b[39;49m\u001b[38;5;124;43mencoding_errors\u001b[39;49m\u001b[38;5;124;43m\"\u001b[39;49m\u001b[43m,\u001b[49m\u001b[43m \u001b[49m\u001b[38;5;124;43m\"\u001b[39;49m\u001b[38;5;124;43mstrict\u001b[39;49m\u001b[38;5;124;43m\"\u001b[39;49m\u001b[43m)\u001b[49m\u001b[43m,\u001b[49m\n\u001b[0;32m   1743\u001b[0m \u001b[43m    \u001b[49m\u001b[43mstorage_options\u001b[49m\u001b[38;5;241;43m=\u001b[39;49m\u001b[38;5;28;43mself\u001b[39;49m\u001b[38;5;241;43m.\u001b[39;49m\u001b[43moptions\u001b[49m\u001b[38;5;241;43m.\u001b[39;49m\u001b[43mget\u001b[49m\u001b[43m(\u001b[49m\u001b[38;5;124;43m\"\u001b[39;49m\u001b[38;5;124;43mstorage_options\u001b[39;49m\u001b[38;5;124;43m\"\u001b[39;49m\u001b[43m,\u001b[49m\u001b[43m \u001b[49m\u001b[38;5;28;43;01mNone\u001b[39;49;00m\u001b[43m)\u001b[49m\u001b[43m,\u001b[49m\n\u001b[0;32m   1744\u001b[0m \u001b[43m\u001b[49m\u001b[43m)\u001b[49m\n\u001b[0;32m   1745\u001b[0m \u001b[38;5;28;01massert\u001b[39;00m \u001b[38;5;28mself\u001b[39m\u001b[38;5;241m.\u001b[39mhandles \u001b[38;5;129;01mis\u001b[39;00m \u001b[38;5;129;01mnot\u001b[39;00m \u001b[38;5;28;01mNone\u001b[39;00m\n\u001b[0;32m   1746\u001b[0m f \u001b[38;5;241m=\u001b[39m \u001b[38;5;28mself\u001b[39m\u001b[38;5;241m.\u001b[39mhandles\u001b[38;5;241m.\u001b[39mhandle\n",
      "File \u001b[1;32m~\\anaconda3\\lib\\site-packages\\pandas\\io\\common.py:856\u001b[0m, in \u001b[0;36mget_handle\u001b[1;34m(path_or_buf, mode, encoding, compression, memory_map, is_text, errors, storage_options)\u001b[0m\n\u001b[0;32m    851\u001b[0m \u001b[38;5;28;01melif\u001b[39;00m \u001b[38;5;28misinstance\u001b[39m(handle, \u001b[38;5;28mstr\u001b[39m):\n\u001b[0;32m    852\u001b[0m     \u001b[38;5;66;03m# Check whether the filename is to be opened in binary mode.\u001b[39;00m\n\u001b[0;32m    853\u001b[0m     \u001b[38;5;66;03m# Binary mode does not support 'encoding' and 'newline'.\u001b[39;00m\n\u001b[0;32m    854\u001b[0m     \u001b[38;5;28;01mif\u001b[39;00m ioargs\u001b[38;5;241m.\u001b[39mencoding \u001b[38;5;129;01mand\u001b[39;00m \u001b[38;5;124m\"\u001b[39m\u001b[38;5;124mb\u001b[39m\u001b[38;5;124m\"\u001b[39m \u001b[38;5;129;01mnot\u001b[39;00m \u001b[38;5;129;01min\u001b[39;00m ioargs\u001b[38;5;241m.\u001b[39mmode:\n\u001b[0;32m    855\u001b[0m         \u001b[38;5;66;03m# Encoding\u001b[39;00m\n\u001b[1;32m--> 856\u001b[0m         handle \u001b[38;5;241m=\u001b[39m \u001b[38;5;28;43mopen\u001b[39;49m\u001b[43m(\u001b[49m\n\u001b[0;32m    857\u001b[0m \u001b[43m            \u001b[49m\u001b[43mhandle\u001b[49m\u001b[43m,\u001b[49m\n\u001b[0;32m    858\u001b[0m \u001b[43m            \u001b[49m\u001b[43mioargs\u001b[49m\u001b[38;5;241;43m.\u001b[39;49m\u001b[43mmode\u001b[49m\u001b[43m,\u001b[49m\n\u001b[0;32m    859\u001b[0m \u001b[43m            \u001b[49m\u001b[43mencoding\u001b[49m\u001b[38;5;241;43m=\u001b[39;49m\u001b[43mioargs\u001b[49m\u001b[38;5;241;43m.\u001b[39;49m\u001b[43mencoding\u001b[49m\u001b[43m,\u001b[49m\n\u001b[0;32m    860\u001b[0m \u001b[43m            \u001b[49m\u001b[43merrors\u001b[49m\u001b[38;5;241;43m=\u001b[39;49m\u001b[43merrors\u001b[49m\u001b[43m,\u001b[49m\n\u001b[0;32m    861\u001b[0m \u001b[43m            \u001b[49m\u001b[43mnewline\u001b[49m\u001b[38;5;241;43m=\u001b[39;49m\u001b[38;5;124;43m\"\u001b[39;49m\u001b[38;5;124;43m\"\u001b[39;49m\u001b[43m,\u001b[49m\n\u001b[0;32m    862\u001b[0m \u001b[43m        \u001b[49m\u001b[43m)\u001b[49m\n\u001b[0;32m    863\u001b[0m     \u001b[38;5;28;01melse\u001b[39;00m:\n\u001b[0;32m    864\u001b[0m         \u001b[38;5;66;03m# Binary mode\u001b[39;00m\n\u001b[0;32m    865\u001b[0m         handle \u001b[38;5;241m=\u001b[39m \u001b[38;5;28mopen\u001b[39m(handle, ioargs\u001b[38;5;241m.\u001b[39mmode)\n",
      "\u001b[1;31mFileNotFoundError\u001b[0m: [Errno 2] No such file or directory: 'C:/Users/HP/Desktop/first year/TITANIC DATA/titanic dataset.csv'"
     ]
    }
   ],
   "source": [
    "x=pd.read_csv('\"C:\\Users\\HP\\Desktop/first year/FDS BOOK AND PPT/titanic dataset csv.csv')\n",
    "x"
   ]
  },
  {
   "cell_type": "code",
   "execution_count": null,
   "id": "302d0952",
   "metadata": {},
   "outputs": [],
   "source": []
  }
 ],
 "metadata": {
  "kernelspec": {
   "display_name": "Python 3 (ipykernel)",
   "language": "python",
   "name": "python3"
  },
  "language_info": {
   "codemirror_mode": {
    "name": "ipython",
    "version": 3
   },
   "file_extension": ".py",
   "mimetype": "text/x-python",
   "name": "python",
   "nbconvert_exporter": "python",
   "pygments_lexer": "ipython3",
   "version": "3.10.9"
  }
 },
 "nbformat": 4,
 "nbformat_minor": 5
}
