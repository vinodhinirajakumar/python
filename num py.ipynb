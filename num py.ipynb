{
 "cells": [
  {
   "cell_type": "code",
   "execution_count": 1,
   "id": "2835ad3b",
   "metadata": {},
   "outputs": [],
   "source": [
    "#num = nummerical\n",
    "# py =python"
   ]
  },
  {
   "cell_type": "code",
   "execution_count": 5,
   "id": "6eabc725",
   "metadata": {},
   "outputs": [
    {
     "name": "stdout",
     "output_type": "stream",
     "text": [
      "Requirement already satisfied: numpy in c:\\users\\hp\\anaconda3\\lib\\site-packages (1.23.5)\n",
      "Note: you may need to restart the kernel to use updated packages.\n"
     ]
    },
    {
     "name": "stderr",
     "output_type": "stream",
     "text": [
      "WARNING: There was an error checking the latest version of pip.\n"
     ]
    }
   ],
   "source": [
    "pip install numpy"
   ]
  },
  {
   "cell_type": "code",
   "execution_count": 32,
   "id": "dc3948e5",
   "metadata": {},
   "outputs": [
    {
     "name": "stdout",
     "output_type": "stream",
     "text": [
      "[ 4  6 21  5]\n"
     ]
    }
   ],
   "source": [
    "import numpy as np # numpy is the package np = numpy\n",
    "array = np.array([4,6,21,5])\n",
    "print(array)"
   ]
  },
  {
   "cell_type": "code",
   "execution_count": 33,
   "id": "ff3cada3",
   "metadata": {},
   "outputs": [
    {
     "data": {
      "text/plain": [
       "dtype('int32')"
      ]
     },
     "execution_count": 33,
     "metadata": {},
     "output_type": "execute_result"
    }
   ],
   "source": [
    "array.dtype"
   ]
  },
  {
   "cell_type": "code",
   "execution_count": 34,
   "id": "135f373d",
   "metadata": {},
   "outputs": [
    {
     "data": {
      "text/plain": [
       "2"
      ]
     },
     "execution_count": 34,
     "metadata": {},
     "output_type": "execute_result"
    }
   ],
   "source": [
    "array.argmax()  #prints the index positoin of maximum value of the array"
   ]
  },
  {
   "cell_type": "code",
   "execution_count": 35,
   "id": "5c69e834",
   "metadata": {},
   "outputs": [
    {
     "data": {
      "text/plain": [
       "0"
      ]
     },
     "execution_count": 35,
     "metadata": {},
     "output_type": "execute_result"
    }
   ],
   "source": [
    "array.argmin() # prints the index position of minimum value of the array"
   ]
  },
  {
   "cell_type": "code",
   "execution_count": 36,
   "id": "497555a4",
   "metadata": {},
   "outputs": [
    {
     "data": {
      "text/plain": [
       "21"
      ]
     },
     "execution_count": 36,
     "metadata": {},
     "output_type": "execute_result"
    }
   ],
   "source": [
    "array.max() # prints the maximum value of the array"
   ]
  },
  {
   "cell_type": "code",
   "execution_count": 37,
   "id": "62ccdbd8",
   "metadata": {},
   "outputs": [
    {
     "data": {
      "text/plain": [
       "4"
      ]
     },
     "execution_count": 37,
     "metadata": {},
     "output_type": "execute_result"
    }
   ],
   "source": [
    "array.min() # prints the minimum value of the array"
   ]
  },
  {
   "cell_type": "code",
   "execution_count": 39,
   "id": "c0daf213",
   "metadata": {},
   "outputs": [
    {
     "data": {
      "text/plain": [
       "array([0, 3, 1, 2], dtype=int64)"
      ]
     },
     "execution_count": 39,
     "metadata": {},
     "output_type": "execute_result"
    }
   ],
   "source": [
    "array.argsort() # is is used to sort the array and return the sorted index position of the array"
   ]
  },
  {
   "cell_type": "code",
   "execution_count": 45,
   "id": "297cc5d9",
   "metadata": {},
   "outputs": [
    {
     "data": {
      "text/plain": [
       "True"
      ]
     },
     "execution_count": 45,
     "metadata": {},
     "output_type": "execute_result"
    }
   ],
   "source": [
    "array.any()"
   ]
  },
  {
   "cell_type": "code",
   "execution_count": 49,
   "id": "0c07a336",
   "metadata": {},
   "outputs": [
    {
     "data": {
      "text/plain": [
       "True"
      ]
     },
     "execution_count": 49,
     "metadata": {},
     "output_type": "execute_result"
    }
   ],
   "source": [
    "array.all()"
   ]
  },
  {
   "cell_type": "code",
   "execution_count": 5,
   "id": "bb010a87",
   "metadata": {},
   "outputs": [
    {
     "data": {
      "text/plain": [
       "array([[5, 5, 5],\n",
       "       [6, 7, 5],\n",
       "       [7, 6, 5]])"
      ]
     },
     "execution_count": 5,
     "metadata": {},
     "output_type": "execute_result"
    }
   ],
   "source": [
    "import numpy as np\n",
    "ma=[[5,5,5],[6,7,5],[7,6,5]]\n",
    "np.array(ma)\n",
    "# two dimensional array......"
   ]
  },
  {
   "cell_type": "code",
   "execution_count": 10,
   "id": "98f8df79",
   "metadata": {},
   "outputs": [
    {
     "data": {
      "text/plain": [
       "array([[5, 5, 5],\n",
       "       [6, 7, 5],\n",
       "       [7, 6, 5]])"
      ]
     },
     "execution_count": 10,
     "metadata": {},
     "output_type": "execute_result"
    }
   ],
   "source": [
    "ma3d=[[[3,3,3],[3,4,5],[4,3,2]],[[9,9,8],[8,7,6],[3,4,5]]]\n",
    "np.array(ma)"
   ]
  },
  {
   "cell_type": "code",
   "execution_count": 12,
   "id": "c81639a7",
   "metadata": {},
   "outputs": [],
   "source": [
    "#array ----->returns evenly sapced in the given interval"
   ]
  },
  {
   "cell_type": "code",
   "execution_count": 16,
   "id": "eb38e67a",
   "metadata": {},
   "outputs": [
    {
     "name": "stdout",
     "output_type": "stream",
     "text": [
      "[1 3 5 7 9]\n"
     ]
    },
    {
     "data": {
      "text/plain": [
       "numpy.ndarray"
      ]
     },
     "execution_count": 16,
     "metadata": {},
     "output_type": "execute_result"
    }
   ],
   "source": [
    "a=np.arange(1,10,2)\n",
    "print(a)\n",
    "type(a)"
   ]
  },
  {
   "cell_type": "code",
   "execution_count": null,
   "id": "6df2ca26",
   "metadata": {},
   "outputs": [],
   "source": [
    "# zeros and ones --->generate array of zeros and ones\n"
   ]
  },
  {
   "cell_type": "code",
   "execution_count": 22,
   "id": "c9805cb7",
   "metadata": {},
   "outputs": [
    {
     "data": {
      "text/plain": [
       "array([0, 0, 0, 0, 0])"
      ]
     },
     "execution_count": 22,
     "metadata": {},
     "output_type": "execute_result"
    }
   ],
   "source": [
    "np.zeros((5),dtype=int) # or np.zeros((5),int)"
   ]
  },
  {
   "cell_type": "code",
   "execution_count": null,
   "id": "56cf7b49",
   "metadata": {},
   "outputs": [],
   "source": []
  },
  {
   "cell_type": "code",
   "execution_count": null,
   "id": "617f6812",
   "metadata": {},
   "outputs": [],
   "source": []
  },
  {
   "cell_type": "code",
   "execution_count": null,
   "id": "32bb8a8d",
   "metadata": {},
   "outputs": [],
   "source": []
  },
  {
   "cell_type": "code",
   "execution_count": null,
   "id": "207a8d81",
   "metadata": {},
   "outputs": [],
   "source": []
  },
  {
   "cell_type": "code",
   "execution_count": 43,
   "id": "3e49dfdb",
   "metadata": {},
   "outputs": [
    {
     "data": {
      "text/plain": [
       "array([[[1, 1, 1, 1],\n",
       "        [1, 1, 1, 1],\n",
       "        [1, 1, 1, 1],\n",
       "        [1, 1, 1, 1]],\n",
       "\n",
       "       [[1, 1, 1, 1],\n",
       "        [1, 1, 1, 1],\n",
       "        [1, 1, 1, 1],\n",
       "        [1, 1, 1, 1]]])"
      ]
     },
     "execution_count": 43,
     "metadata": {},
     "output_type": "execute_result"
    }
   ],
   "source": [
    "np.ones((2,4,4),int) #(channel,row,column)"
   ]
  },
  {
   "cell_type": "code",
   "execution_count": 18,
   "id": "fe39d00d",
   "metadata": {},
   "outputs": [],
   "source": [
    "#LINSPACE\n",
    "#return evenly spaced numbers over a specified interval"
   ]
  },
  {
   "cell_type": "code",
   "execution_count": 29,
   "id": "d04816e9",
   "metadata": {},
   "outputs": [
    {
     "data": {
      "text/plain": [
       "array([ 1,  3,  5,  7, 10])"
      ]
     },
     "execution_count": 29,
     "metadata": {},
     "output_type": "execute_result"
    }
   ],
   "source": [
    "np.linspace(1,10,num=5,dtype=int) #num=5 returns 5 numbers(it takes any random valuesr)"
   ]
  },
  {
   "cell_type": "code",
   "execution_count": 30,
   "id": "25202af2",
   "metadata": {},
   "outputs": [],
   "source": [
    "#eye---->create an identity matrix\n"
   ]
  },
  {
   "cell_type": "code",
   "execution_count": 35,
   "id": "ff477ca2",
   "metadata": {},
   "outputs": [
    {
     "data": {
      "text/plain": [
       "array([[1, 0],\n",
       "       [0, 1]])"
      ]
     },
     "execution_count": 35,
     "metadata": {},
     "output_type": "execute_result"
    }
   ],
   "source": [
    "\n",
    "np.eye(2,dtype=int)"
   ]
  },
  {
   "cell_type": "code",
   "execution_count": 36,
   "id": "f6b7f5ec",
   "metadata": {},
   "outputs": [
    {
     "data": {
      "text/plain": [
       "array([[1., 0., 0.],\n",
       "       [0., 1., 0.],\n",
       "       [0., 0., 1.]])"
      ]
     },
     "execution_count": 36,
     "metadata": {},
     "output_type": "execute_result"
    }
   ],
   "source": [
    "np.eye(3)"
   ]
  },
  {
   "cell_type": "code",
   "execution_count": 1,
   "id": "e96e2f43",
   "metadata": {},
   "outputs": [
    {
     "ename": "NameError",
     "evalue": "name 'np' is not defined",
     "output_type": "error",
     "traceback": [
      "\u001b[1;31m---------------------------------------------------------------------------\u001b[0m",
      "\u001b[1;31mNameError\u001b[0m                                 Traceback (most recent call last)",
      "Cell \u001b[1;32mIn[1], line 4\u001b[0m\n\u001b[0;32m      1\u001b[0m \u001b[38;5;66;03m#random---> numpy has many ways to create random number arrays\u001b[39;00m\n\u001b[0;32m      2\u001b[0m \u001b[38;5;66;03m#random.rand(channel,row,column)\u001b[39;00m\n\u001b[1;32m----> 4\u001b[0m \u001b[43mnp\u001b[49m\u001b[38;5;241m.\u001b[39mrandom\u001b[38;5;241m.\u001b[39mrand(\u001b[38;5;241m7\u001b[39m,\u001b[38;5;241m2\u001b[39m,\u001b[38;5;241m6\u001b[39m)\n",
      "\u001b[1;31mNameError\u001b[0m: name 'np' is not defined"
     ]
    }
   ],
   "source": [
    "#random---> numpy has many ways to create random number arrays\n",
    "#random.rand(channel,row,column)\n",
    "\n",
    "np.random.rand(7,2,6)\n"
   ]
  },
  {
   "cell_type": "code",
   "execution_count": 52,
   "id": "721d2271",
   "metadata": {},
   "outputs": [
    {
     "data": {
      "text/plain": [
       "array([[[0.91019446, 0.06458089],\n",
       "        [0.43273979, 0.46639503]],\n",
       "\n",
       "       [[0.17021741, 0.22511485],\n",
       "        [0.67447928, 0.42504985]],\n",
       "\n",
       "       [[0.32826601, 0.98582702],\n",
       "        [0.36155273, 0.38851233]],\n",
       "\n",
       "       [[0.78629881, 0.96673468],\n",
       "        [0.46587964, 0.41564849]],\n",
       "\n",
       "       [[0.91151045, 0.64644036],\n",
       "        [0.76863888, 0.34587832]],\n",
       "\n",
       "       [[0.36678574, 0.55394819],\n",
       "        [0.62718604, 0.98655837]],\n",
       "\n",
       "       [[0.44154804, 0.04452292],\n",
       "        [0.47101386, 0.96404245]]])"
      ]
     },
     "execution_count": 52,
     "metadata": {},
     "output_type": "execute_result"
    }
   ],
   "source": [
    "import numpy as np1\n",
    "np1.random.rand(7,2,2)"
   ]
  },
  {
   "cell_type": "code",
   "execution_count": 55,
   "id": "990ac5be",
   "metadata": {},
   "outputs": [
    {
     "data": {
      "text/plain": [
       "array([[[ 0.50783528,  0.76524579],\n",
       "        [ 0.84624324, -0.99002063]],\n",
       "\n",
       "       [[ 0.0712039 , -0.28505305],\n",
       "        [ 1.50441808,  0.49234068]],\n",
       "\n",
       "       [[ 1.95345318, -0.87562579],\n",
       "        [-0.67820754, -2.16668753]],\n",
       "\n",
       "       [[ 0.0023884 , -0.53072118],\n",
       "        [-0.4950075 , -0.66487308]]])"
      ]
     },
     "execution_count": 55,
     "metadata": {},
     "output_type": "execute_result"
    }
   ],
   "source": [
    "#randn----> returns a sample from the standard normal distribution\n",
    "\n",
    "np.random.randn(4,2,2)#-->any random values return agum"
   ]
  },
  {
   "cell_type": "code",
   "execution_count": 61,
   "id": "2050e1c6",
   "metadata": {},
   "outputs": [
    {
     "data": {
      "text/plain": [
       "7"
      ]
     },
     "execution_count": 61,
     "metadata": {},
     "output_type": "execute_result"
    }
   ],
   "source": [
    "#randint-->returns a random integer from low (inclusive)to high(excluisve)\n",
    "np.random.randint(2,10)"
   ]
  },
  {
   "cell_type": "code",
   "execution_count": 3,
   "id": "393bfaed",
   "metadata": {},
   "outputs": [
    {
     "name": "stdout",
     "output_type": "stream",
     "text": [
      "[4 2]\n"
     ]
    }
   ],
   "source": [
    "import numpy as np\n",
    "x=np.random.randint(2,10,2)\n",
    "print(x)"
   ]
  },
  {
   "cell_type": "code",
   "execution_count": 68,
   "id": "0f30a584",
   "metadata": {},
   "outputs": [
    {
     "data": {
      "text/plain": [
       "array([0.37454012, 0.95071431, 0.73199394, 0.59865848])"
      ]
     },
     "execution_count": 68,
     "metadata": {},
     "output_type": "execute_result"
    }
   ],
   "source": [
    "#seed--->used to set the random state so that it can be reused\n",
    "np.random.seed(42)# here 42 is constant dont change \n",
    "np.random.rand(4)"
   ]
  },
  {
   "cell_type": "code",
   "execution_count": 69,
   "id": "2e8bc2b6",
   "metadata": {},
   "outputs": [],
   "source": [
    "#array attributes and methods"
   ]
  },
  {
   "cell_type": "code",
   "execution_count": 72,
   "id": "01615c03",
   "metadata": {},
   "outputs": [
    {
     "name": "stdout",
     "output_type": "stream",
     "text": [
      "[ 0  1  2  3  4  5  6  7  8  9 10 11 12 13 14 15 16 17 18 19 20 21 22 23\n",
      " 24]\n",
      "[22 27 24 29  7 20 15 12 17 14 20 23 25 24 27 27 27 12  8 28 14 12  0 24\n",
      "  6  8 23  0 11  7 23 10 18 16  7  2  2  0 26  4  9  6 25  8 27  6  8  7\n",
      " 11  1  0 15 22 22 29 23  4  2 11  7 21 26  2  0  2  4 14 13  2  0  4 25\n",
      " 22 13  6 26  8 14 14 25  9 27 12 18  6 16 19 28  3 29  4 22  6 12 14 10\n",
      " 28  3 12  6]\n"
     ]
    }
   ],
   "source": [
    "arr=np.arange(25)\n",
    "randarr=np.random.randint(0,30,100)\n",
    "print(arr)\n",
    "print(randarr)"
   ]
  },
  {
   "cell_type": "code",
   "execution_count": null,
   "id": "c1c8e61f",
   "metadata": {},
   "outputs": [],
   "source": [
    "#reshape"
   ]
  },
  {
   "cell_type": "code",
   "execution_count": 73,
   "id": "60f743a2",
   "metadata": {},
   "outputs": [
    {
     "data": {
      "text/plain": [
       "array([[ 0,  1,  2,  3,  4],\n",
       "       [ 5,  6,  7,  8,  9],\n",
       "       [10, 11, 12, 13, 14],\n",
       "       [15, 16, 17, 18, 19],\n",
       "       [20, 21, 22, 23, 24]])"
      ]
     },
     "execution_count": 73,
     "metadata": {},
     "output_type": "execute_result"
    }
   ],
   "source": [
    "arr.reshape(5,5)"
   ]
  },
  {
   "cell_type": "code",
   "execution_count": null,
   "id": "e26219b0",
   "metadata": {},
   "outputs": [],
   "source": [
    "#max,min,argmax,argmin\n"
   ]
  },
  {
   "cell_type": "code",
   "execution_count": 74,
   "id": "832d2aff",
   "metadata": {},
   "outputs": [
    {
     "data": {
      "text/plain": [
       "29"
      ]
     },
     "execution_count": 74,
     "metadata": {},
     "output_type": "execute_result"
    }
   ],
   "source": [
    "randarr.max()"
   ]
  },
  {
   "cell_type": "code",
   "execution_count": 75,
   "id": "989820e9",
   "metadata": {},
   "outputs": [
    {
     "data": {
      "text/plain": [
       "0"
      ]
     },
     "execution_count": 75,
     "metadata": {},
     "output_type": "execute_result"
    }
   ],
   "source": [
    "randarr.min()"
   ]
  },
  {
   "cell_type": "code",
   "execution_count": 76,
   "id": "63a808ef",
   "metadata": {},
   "outputs": [
    {
     "data": {
      "text/plain": [
       "3"
      ]
     },
     "execution_count": 76,
     "metadata": {},
     "output_type": "execute_result"
    }
   ],
   "source": [
    "randarr.argmax()"
   ]
  },
  {
   "cell_type": "code",
   "execution_count": 77,
   "id": "44a96495",
   "metadata": {},
   "outputs": [
    {
     "data": {
      "text/plain": [
       "22"
      ]
     },
     "execution_count": 77,
     "metadata": {},
     "output_type": "execute_result"
    }
   ],
   "source": [
    "randarr.argmin()"
   ]
  },
  {
   "cell_type": "code",
   "execution_count": null,
   "id": "c8912e0c",
   "metadata": {},
   "outputs": [],
   "source": []
  },
  {
   "cell_type": "code",
   "execution_count": 78,
   "id": "1c31d673",
   "metadata": {},
   "outputs": [
    {
     "data": {
      "text/plain": [
       "(25,)"
      ]
     },
     "execution_count": 78,
     "metadata": {},
     "output_type": "execute_result"
    }
   ],
   "source": [
    "#shape-->is an attribute that array \n",
    "arr.shape\n"
   ]
  },
  {
   "cell_type": "code",
   "execution_count": 21,
   "id": "796f6e40",
   "metadata": {},
   "outputs": [
    {
     "name": "stdout",
     "output_type": "stream",
     "text": [
      "[[[1 2 3]\n",
      "  [2 3 4]\n",
      "  [4 5 6]]\n",
      "\n",
      " [[1 2 3]\n",
      "  [2 3 4]\n",
      "  [4 5 6]]\n",
      "\n",
      " [[1 2 3]\n",
      "  [2 3 4]\n",
      "  [4 5 6]]]\n"
     ]
    }
   ],
   "source": [
    "import numpy as np\n",
    "arr=[[1,2,3],[2,3,4],[4,5,6]],[[1,2,3],[2,3,4],[4,5,6]],[[1,2,3],[2,3,4],[4,5,6]]\n",
    "print(np.array(arr))"
   ]
  },
  {
   "cell_type": "code",
   "execution_count": 26,
   "id": "db73d985",
   "metadata": {},
   "outputs": [
    {
     "name": "stdout",
     "output_type": "stream",
     "text": [
      "[ 0  1  2  3  4  5  6  7  8  9 10 11 12 13 14 15 16 17 18 19 20 21 22 23\n",
      " 24]\n"
     ]
    }
   ],
   "source": [
    "\n",
    "arr=np.arange(25)\n",
    "print(arr)"
   ]
  },
  {
   "cell_type": "code",
   "execution_count": 28,
   "id": "d7912985",
   "metadata": {},
   "outputs": [
    {
     "data": {
      "text/plain": [
       "array([[ 0,  1,  2,  3,  4],\n",
       "       [ 5,  6,  7,  8,  9],\n",
       "       [10, 11, 12, 13, 14],\n",
       "       [15, 16, 17, 18, 19],\n",
       "       [20, 21, 22, 23, 24]])"
      ]
     },
     "execution_count": 28,
     "metadata": {},
     "output_type": "execute_result"
    }
   ],
   "source": [
    "arr.reshape(5,5)"
   ]
  },
  {
   "cell_type": "code",
   "execution_count": 31,
   "id": "a3358ad8",
   "metadata": {},
   "outputs": [
    {
     "data": {
      "text/plain": [
       "(25,)"
      ]
     },
     "execution_count": 31,
     "metadata": {},
     "output_type": "execute_result"
    }
   ],
   "source": [
    "arr.shape"
   ]
  },
  {
   "cell_type": "code",
   "execution_count": 37,
   "id": "cb4f98c7",
   "metadata": {},
   "outputs": [
    {
     "data": {
      "text/plain": [
       "array([[[3, 4, 2],\n",
       "        [2, 3, 4]],\n",
       "\n",
       "       [[9, 8, 7],\n",
       "        [8, 7, 7]],\n",
       "\n",
       "       [[9, 8, 0],\n",
       "        [0, 9, 8]]])"
      ]
     },
     "execution_count": 37,
     "metadata": {},
     "output_type": "execute_result"
    }
   ],
   "source": [
    "arr=np.array([[[3,4,2],[2,3,4]],[[9,8,7],[8,7,7]],[[9,8,0],[0,9,8]]])\n",
    "arr"
   ]
  },
  {
   "cell_type": "code",
   "execution_count": 41,
   "id": "626386da",
   "metadata": {},
   "outputs": [
    {
     "data": {
      "text/plain": [
       "8"
      ]
     },
     "execution_count": 41,
     "metadata": {},
     "output_type": "execute_result"
    }
   ],
   "source": [
    "arr[2][1][2]"
   ]
  },
  {
   "cell_type": "code",
   "execution_count": 4,
   "id": "5bfdca16",
   "metadata": {},
   "outputs": [
    {
     "name": "stdout",
     "output_type": "stream",
     "text": [
      "[[[4 5 6]\n",
      "  [5 4 3]\n",
      "  [3 4 5]]\n",
      "\n",
      " [[3 4 5]\n",
      "  [4 4 5]\n",
      "  [5 2 3]]]\n"
     ]
    }
   ],
   "source": [
    "import numpy as np\n",
    "arr=[[[4,5,6],[5,4,3],[3,4,5]],[[3,4,5],[4,4,5],[5,2,3]]]\n",
    "print(np.array(arr))\n"
   ]
  },
  {
   "cell_type": "code",
   "execution_count": 6,
   "id": "26f75f5a",
   "metadata": {},
   "outputs": [
    {
     "name": "stdout",
     "output_type": "stream",
     "text": [
      "[[4 5 6]\n",
      " [5 4 3]\n",
      " [3 4 5]]\n"
     ]
    }
   ],
   "source": [
    "arr=[[4,5,6],[5,4,3],[3,4,5]]\n",
    "print(np.array(arr))"
   ]
  },
  {
   "cell_type": "code",
   "execution_count": 24,
   "id": "3ac01dad",
   "metadata": {},
   "outputs": [
    {
     "data": {
      "text/plain": [
       "[[5, 4, 3]]"
      ]
     },
     "execution_count": 24,
     "metadata": {},
     "output_type": "execute_result"
    }
   ],
   "source": [
    "arr[:2][1:]"
   ]
  },
  {
   "cell_type": "code",
   "execution_count": 25,
   "id": "7c8a7647",
   "metadata": {},
   "outputs": [
    {
     "data": {
      "text/plain": [
       "array([6.23042070e-307, 4.67296746e-307, 1.69121096e-306, 1.03346878e-311,\n",
       "       0.00000000e+000])"
      ]
     },
     "execution_count": 25,
     "metadata": {},
     "output_type": "execute_result"
    }
   ],
   "source": [
    "np.empty(5)"
   ]
  },
  {
   "cell_type": "markdown",
   "id": "90700107",
   "metadata": {},
   "source": []
  },
  {
   "cell_type": "code",
   "execution_count": null,
   "id": "3ad9ea01",
   "metadata": {},
   "outputs": [],
   "source": []
  },
  {
   "cell_type": "code",
   "execution_count": null,
   "id": "0885e30a",
   "metadata": {},
   "outputs": [],
   "source": []
  },
  {
   "cell_type": "code",
   "execution_count": null,
   "id": "30fb8e3c",
   "metadata": {},
   "outputs": [],
   "source": []
  }
 ],
 "metadata": {
  "kernelspec": {
   "display_name": "Python 3 (ipykernel)",
   "language": "python",
   "name": "python3"
  },
  "language_info": {
   "codemirror_mode": {
    "name": "ipython",
    "version": 3
   },
   "file_extension": ".py",
   "mimetype": "text/x-python",
   "name": "python",
   "nbconvert_exporter": "python",
   "pygments_lexer": "ipython3",
   "version": "3.10.9"
  }
 },
 "nbformat": 4,
 "nbformat_minor": 5
}
