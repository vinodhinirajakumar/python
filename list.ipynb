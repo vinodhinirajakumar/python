{
 "cells": [
  {
   "cell_type": "code",
   "execution_count": 1,
   "id": "9672f43b",
   "metadata": {},
   "outputs": [
    {
     "data": {
      "text/plain": [
       "['abcccdddeeee', 3.14, 5, ['vinodhini', ['rrrrrrrr']]]"
      ]
     },
     "execution_count": 1,
     "metadata": {},
     "output_type": "execute_result"
    }
   ],
   "source": [
    "list=['abcccdddeeee',3.14,5,['vinodhini',['rrrrrrrr']]]\n",
    "list\n"
   ]
  },
  {
   "cell_type": "code",
   "execution_count": 2,
   "id": "596428a7",
   "metadata": {},
   "outputs": [
    {
     "name": "stdout",
     "output_type": "stream",
     "text": [
      "['abcccdddeeee', 3.14, 5, ['vinodhini', ['rrrrrrrr']], 33]\n"
     ]
    }
   ],
   "source": [
    "list.append(33);\n",
    "print(list);\n"
   ]
  },
  {
   "cell_type": "code",
   "execution_count": 6,
   "id": "279bb7ed",
   "metadata": {},
   "outputs": [
    {
     "name": "stdout",
     "output_type": "stream",
     "text": [
      "['abcccdddeeee', 3.14, 40, 40, 5, ['vinodhini', ['rrrrrrrr']], 33, 2, 2]\n"
     ]
    }
   ],
   "source": [
    "list.insert(2,40)\n",
    "print(list)\n"
   ]
  },
  {
   "cell_type": "code",
   "execution_count": 8,
   "id": "7db1a8a2",
   "metadata": {},
   "outputs": [
    {
     "data": {
      "text/plain": [
       "[8, 9, 7, 3, 2, 7, 8, 0, 7, 2]"
      ]
     },
     "execution_count": 8,
     "metadata": {},
     "output_type": "execute_result"
    }
   ],
   "source": [
    "list1=[7,8,0,7,2]\n",
    "list2=[8,9,7,3,2]\n",
    "list3=list2+list1;\n",
    "list3\n"
   ]
  },
  {
   "cell_type": "code",
   "execution_count": 15,
   "id": "ab4dcc77",
   "metadata": {},
   "outputs": [
    {
     "name": "stdout",
     "output_type": "stream",
     "text": [
      "[2, 4, 1, 3]\n"
     ]
    }
   ],
   "source": [
    "list1=[3,4,5,6]\n",
    "list2=[8,8,3,2]\n",
    "list5=[9,8,7,5]\n",
    "list_3=[]\n",
    "for i in range(len(list1)):\n",
    "    {\n",
    "      list_3.append(list1[i]+list2[i]-list5[i])  \n",
    "        \n",
    "    }\n",
    "print(list_3)\n",
    "   \n",
    "        \n",
    "    \n"
   ]
  },
  {
   "cell_type": "code",
   "execution_count": 1,
   "id": "c5103355",
   "metadata": {},
   "outputs": [
    {
     "name": "stdout",
     "output_type": "stream",
     "text": [
      "(24, 4.44, 'hello', 222)\n"
     ]
    }
   ],
   "source": [
    "#list into tuple\n",
    "list=[24,4.44,'hello',222]\n",
    "a=tuple(list)\n",
    "print(a)\n",
    "                     \n",
    "                     "
   ]
  },
  {
   "cell_type": "code",
   "execution_count": 2,
   "id": "4e94ae15",
   "metadata": {},
   "outputs": [
    {
     "name": "stdout",
     "output_type": "stream",
     "text": [
      "{8, 9, 'hello'}\n"
     ]
    }
   ],
   "source": [
    "#list into set\n",
    "list=[9,8,'hello']\n",
    "set_1=set (list)\n",
    "print(set_1)"
   ]
  },
  {
   "cell_type": "code",
   "execution_count": null,
   "id": "0f21cac2",
   "metadata": {},
   "outputs": [],
   "source": []
  }
 ],
 "metadata": {
  "kernelspec": {
   "display_name": "Python 3 (ipykernel)",
   "language": "python",
   "name": "python3"
  },
  "language_info": {
   "codemirror_mode": {
    "name": "ipython",
    "version": 3
   },
   "file_extension": ".py",
   "mimetype": "text/x-python",
   "name": "python",
   "nbconvert_exporter": "python",
   "pygments_lexer": "ipython3",
   "version": "3.10.9"
  }
 },
 "nbformat": 4,
 "nbformat_minor": 5
}
